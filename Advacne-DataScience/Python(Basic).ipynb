{
  "nbformat": 4,
  "nbformat_minor": 0,
  "metadata": {
    "colab": {
      "provenance": []
    },
    "kernelspec": {
      "name": "python3",
      "display_name": "Python 3"
    },
    "language_info": {
      "name": "python"
    }
  },
  "cells": [
    {
      "cell_type": "markdown",
      "source": [
        "### **Basic Python Topics**"
      ],
      "metadata": {
        "id": "_CiZlr46ge7k"
      }
    },
    {
      "cell_type": "markdown",
      "source": [
        "**First Program in Python**"
      ],
      "metadata": {
        "id": "QHx126JCgFv5"
      }
    },
    {
      "cell_type": "code",
      "execution_count": null,
      "metadata": {
        "colab": {
          "base_uri": "https://localhost:8080/"
        },
        "id": "mTZqUEk_f2oE",
        "outputId": "151f4488-5437-4d9d-d0f8-ff576b4e3c1f"
      },
      "outputs": [
        {
          "output_type": "stream",
          "name": "stdout",
          "text": [
            "Hello, World\n"
          ]
        }
      ],
      "source": [
        "# Display the Hello World\n",
        "print(\"Hello, World\")"
      ]
    },
    {
      "cell_type": "markdown",
      "source": [
        "**Variables & DataTypes**\n",
        "\n",
        "**Variable:**\n",
        "Variables are containers for storing data values.\n",
        "\n",
        "**Data-Type:**\n",
        "Data types define the kind of data a variable can hold, such as integers, floats, strings, and more, determining what operations can be performed on the data.\n",
        "\n",
        "`There are so many data-types in python:`\n",
        "*   **Text-Type: String**\n",
        "*   **Numeric-Types: integer, float , complex**\n",
        "*   **Sequence Types: List , Tuple , Range**\n",
        "*   **Mapping Type: Dictionary**\n",
        "*   **Set Type: set**\n",
        "*   **Boolean Type: Bool**\n",
        "\n",
        "`For more details, such as checking the syntax of variables & data-types, feel free to explore the links provided below:`\n",
        "\n",
        "https://www.w3schools.com/python/python_variables.asp  `(Doc For the Variable Information.)`\n",
        "\n",
        "https://www.w3schools.com/python/python_datatypes.asp `(Doc For the Data-Types Information.)`\n",
        "\n",
        "https://www.youtube.com/watch?v=LKFrQXaoSMQ `(Youtube Video For the Variable and Data-Types.)`"
      ],
      "metadata": {
        "id": "YF4UOlVngxn2"
      }
    },
    {
      "cell_type": "code",
      "source": [
        "# Define the Variable for the most important DataType\n",
        "\n",
        "integerVar = 10\n",
        "floatVar   = 20.1\n",
        "stringVar  = \"Usama Husnain\"\n",
        "charVar    = 'A'\n",
        "boolVar    = True\n",
        "\n",
        "# Display the Type of each variable\n",
        "print(f\"Here is the type of Integer Varaiable : {type(integerVar)}\")\n",
        "print(f\"Here is the type of Float   Varaiable : {type(floatVar)}\")\n",
        "print(f\"Here is the type of String  Varaiable : {type(stringVar)}\")\n",
        "print(f\"Here is the type of Character Varaiable : {type(charVar)}\")"
      ],
      "metadata": {
        "colab": {
          "base_uri": "https://localhost:8080/"
        },
        "collapsed": true,
        "id": "6B2NRIO3gNQs",
        "outputId": "f23476a3-db8c-4692-9623-03b63075352f"
      },
      "execution_count": null,
      "outputs": [
        {
          "output_type": "stream",
          "name": "stdout",
          "text": [
            "Here is the type of Integer Varaiable : <class 'int'>\n",
            "Here is the type of Float   Varaiable : <class 'float'>\n",
            "Here is the type of String  Varaiable : <class 'str'>\n",
            "Here is the type of Character Varaiable : <class 'str'>\n"
          ]
        }
      ]
    },
    {
      "cell_type": "markdown",
      "source": [
        "**Expressions:**\n",
        "An expression is a combination of operators and operands that is interpreted to produce some other value.\n",
        "\n",
        "`There are many types of expressions in the Python:`\n",
        "\n",
        "*   **Mathematical Expression**\n",
        "*   **Logical      Expression**\n",
        "*   **Comparison   Expression**\n",
        "*   **Membership   Expression**\n",
        "*   **Identity     Exression**\n",
        "*   **Bitwise      Expression**\n",
        "*   **Tenary(Conditional) Expression**\n",
        "\n",
        "`For more details, such as checking the syntax of expressions, feel free to explore the links provided below:`\n",
        "\n",
        "https://docs.python.org/3/reference/expressions.html `(Doc For the Expressions.)`\n"
      ],
      "metadata": {
        "id": "cIGDXu8SitWH"
      }
    },
    {
      "cell_type": "code",
      "source": [
        "# Basic Mathematical Expressions\n",
        "\n",
        "# Define Some Integer Variable with some Value\n",
        "x = 10\n",
        "y = 5\n",
        "\n",
        "# 1. Addition\n",
        "result = x + y\n",
        "print(f\"The Addition of {x} and {y} is : {result}\\n\")\n",
        "\n",
        "# 2. Subtraction\n",
        "result = x - y\n",
        "print(f\"The Subtraction of {x} and {y} is : {result}\\n\")\n",
        "\n",
        "# 3. Multiplication\n",
        "result = x * y\n",
        "print(f\"The Multiplication of {x} and {y} is : {result}\\n\")\n",
        "\n",
        "# 4. Division\n",
        "result = x / y\n",
        "print(f\"The Division of {x} and {y} is : {result}\\n\")\n",
        "\n",
        "# 5. Exponent\n",
        "result = x ** y\n",
        "print(f\"The Exponent of {x} and {y} is : {result}\\n\")\n",
        "\n",
        "# 6. Modulus\n",
        "result = x % y\n",
        "print(f\"The Modulus of {x} and {y} is : {result}\\n\")\n",
        "\n",
        "# 7. Floor Division\n",
        "result = x // y\n",
        "print(f\"The Floor Division of {x} and {y} is : {result}\\n\")"
      ],
      "metadata": {
        "colab": {
          "base_uri": "https://localhost:8080/"
        },
        "collapsed": true,
        "id": "cdWMpeY8hlu2",
        "outputId": "c06226d8-9137-4f10-f8cf-b253f6424041"
      },
      "execution_count": null,
      "outputs": [
        {
          "output_type": "stream",
          "name": "stdout",
          "text": [
            "The Addition of 10 and 5 is : 15\n",
            "\n",
            "The Subtraction of 10 and 5 is : 5\n",
            "\n",
            "The Multiplication of 10 and 5 is : 50\n",
            "\n",
            "The Division of 10 and 5 is : 2.0\n",
            "\n",
            "The Exponent of 10 and 5 is : 100000\n",
            "\n",
            "The Modulus of 10 and 5 is : 0\n",
            "\n",
            "The Floor Division of 10 and 5 is : 2\n",
            "\n"
          ]
        }
      ]
    },
    {
      "cell_type": "code",
      "source": [
        "# Basic Logical Expressions\n",
        "\n",
        "# Define some boolean variable with some value\n",
        "x = True\n",
        "y = False\n",
        "\n",
        "# 1. Logical AND\n",
        "result = x and y\n",
        "print(f\"The Logical AND of {x} and {y} is : {result}\\n\")\n",
        "\n",
        "# 2. Logical OR\n",
        "result = x or y\n",
        "print(f\"The Logical OR of {x} and {y} is : {result}\\n\")\n",
        "\n",
        "# 3. Logical NOT\n",
        "result = not x\n",
        "print(f\"The Logical NOT of {x} is : {result}\\n\")"
      ],
      "metadata": {
        "colab": {
          "base_uri": "https://localhost:8080/"
        },
        "collapsed": true,
        "id": "Ey0hA9_2moJ4",
        "outputId": "bb2f3296-8c17-449a-9f82-8636b6f00274"
      },
      "execution_count": null,
      "outputs": [
        {
          "output_type": "stream",
          "name": "stdout",
          "text": [
            "The Logical AND of True and False is : False\n",
            "\n",
            "The Logical OR of True and False is : True\n",
            "\n",
            "The Logical NOT of True is : False\n",
            "\n"
          ]
        }
      ]
    },
    {
      "cell_type": "code",
      "source": [
        "# Basic Comparison Expression\n",
        "\n",
        "# Define Some Integer Variable with some Value\n",
        "x = 10\n",
        "y = 5\n",
        "\n",
        "# 1. Equality\n",
        "result = x == y\n",
        "print(f\"{x} is equal to {y} : {result}\\n\")\n",
        "\n",
        "# 2. Not equal\n",
        "result = x != y\n",
        "print(f\"{x} is not equal to {y} : {result}\\n\")\n",
        "\n",
        "# 3. Greater than\n",
        "result = x > y\n",
        "print(f\"{x} is Greater than {y} : {result}\\n\")\n",
        "\n",
        "# 4. Less than\n",
        "result = x < y\n",
        "print(f\"{x} is Less than {y} : {result}\\n\")\n",
        "\n",
        "# 5. Greater than or equal to\n",
        "result = x >= y\n",
        "print(f\"{x} is Greater than or Equal to {y} : {result}\\n\")\n",
        "\n",
        "# 6. Less than or equal to\n",
        "result = x <= y\n",
        "print(f\"{x} is Less than or Equal to {y} : {result}\\n\")"
      ],
      "metadata": {
        "colab": {
          "base_uri": "https://localhost:8080/"
        },
        "collapsed": true,
        "id": "JfiPz6ggoC3y",
        "outputId": "1fb30a7c-07df-4723-bc81-ddc3b643d4ec"
      },
      "execution_count": null,
      "outputs": [
        {
          "output_type": "stream",
          "name": "stdout",
          "text": [
            "10 is equal to 5 : False\n",
            "\n",
            "10 is not equal to 5 : True\n",
            "\n",
            "10 is Greater than 5 : True\n",
            "\n",
            "10 is Less than 5 : False\n",
            "\n",
            "10 is Greater than or Equal to 5 : True\n",
            "\n",
            "10 is Less than or Equal to 5 : False\n",
            "\n"
          ]
        }
      ]
    },
    {
      "cell_type": "code",
      "source": [
        "# Basic Membership Expressions\n",
        "\n",
        "# 1. Define the List with some random data\n",
        "myList = [10 , 20 , 30 , 40 , 50]\n",
        "\n",
        "# Now Checking the Element in the List\n",
        "\n",
        "# 1.1. Check 5 in the List or not\n",
        "result = 5 in myList\n",
        "print(f\"{5}  in the List : {result}\\n\")\n",
        "\n",
        "# 1.2. Check 10 in the List or not\n",
        "result = 10 in myList\n",
        "print(f\"{10} in the List : {result}\\n\")\n",
        "\n",
        "print(\"----------------------------\\n\")\n",
        "\n",
        "# 2. Define the String Variable with some random Data\n",
        "myString = \"Msater Data Science Class\"\n",
        "\n",
        "# Now Checking the Element in the String\n",
        "result = \"us\" in myString\n",
        "print(f\"us in the String : {result}\\n\")\n",
        "\n",
        "result = \"data\" in myString\n",
        "print(f\"data in the String : {result}\\n\")\n",
        "\n",
        "result = \"Science\" in myString\n",
        "print(f\"Science in the String : {result}\\n\")"
      ],
      "metadata": {
        "colab": {
          "base_uri": "https://localhost:8080/"
        },
        "collapsed": true,
        "id": "oLgkDjVkor8T",
        "outputId": "ecbda7aa-d204-485e-c3f0-101571eae1ca"
      },
      "execution_count": null,
      "outputs": [
        {
          "output_type": "stream",
          "name": "stdout",
          "text": [
            "5  in the List : False\n",
            "\n",
            "10 in the List : True\n",
            "\n",
            "----------------------------\n",
            "\n",
            "us in the String : False\n",
            "\n",
            "data in the String : False\n",
            "\n",
            "Science in the String : True\n",
            "\n"
          ]
        }
      ]
    },
    {
      "cell_type": "code",
      "source": [
        "# Basic Identity Expressions\n",
        "\n",
        "# Define the 2 Integer Type List with some random Data\n",
        "x = [1 , 2 , 3 , 4 , 5]\n",
        "y = [1 , 2 , 3 , 4 , 5]\n",
        "z = x\n",
        "\n",
        "\n",
        "# Now Checking the 2 Variables Data points  to the Same Object\n",
        "result = x is z\n",
        "print(f\"x & z is same object in the Memory : {result}\\n\")\n",
        "\n",
        "result = x is y\n",
        "print(f\"x & y is same object in the Memory : {result}\\n\")"
      ],
      "metadata": {
        "colab": {
          "base_uri": "https://localhost:8080/"
        },
        "collapsed": true,
        "id": "6AawgQhAqRQ5",
        "outputId": "dde14bcf-84bd-425e-c3a1-73024438a072"
      },
      "execution_count": null,
      "outputs": [
        {
          "output_type": "stream",
          "name": "stdout",
          "text": [
            "x & z is same object in the Memory : True\n",
            "\n",
            "x & y is same object in the Memory : False\n",
            "\n"
          ]
        }
      ]
    },
    {
      "cell_type": "code",
      "source": [
        "# Basic Bitwise Expressions\n",
        "\n",
        "# Define Some Integer Variable with some random Data\n",
        "\n",
        "x = 10   # Binary: 1010\n",
        "y = 4    # Binary: 0100\n",
        "\n",
        "# Bitwise AND\n",
        "result = x & y\n",
        "print(f\"Bitwise AND Output of {x} and {y} is : {result}\\n\")\n",
        "\n",
        "# Bitwise OR\n",
        "result = x | y\n",
        "print(f\"Bitwise OR Output of {x} and {y} is : {result}\\n\")\n",
        "\n",
        "# Bitwise XOR\n",
        "result = x ^ y\n",
        "print(f\"Bitwise XOR Output of {x} and {y} is : {result}\\n\")\n",
        "\n",
        "# Bitwise NOT\n",
        "result = ~x\n",
        "print(f\"Bitwise NOT Output of {x} is : {result}\\n\")\n",
        "\n",
        "# Bitwise Left Shift\n",
        "result = x << 2\n",
        "print(f\"Bitwise Left Shift Output of {x} is : {result}\\n\")\n",
        "\n",
        "# Bitwise Right Shift\n",
        "result = x >> 2\n",
        "print(f\"Bitwise Right Shift Output of {x} is : {result}\\n\")"
      ],
      "metadata": {
        "colab": {
          "base_uri": "https://localhost:8080/"
        },
        "collapsed": true,
        "id": "VpInHT5xsjgY",
        "outputId": "1aa8fd47-0ea0-4f6a-b9cd-f048411b9305"
      },
      "execution_count": null,
      "outputs": [
        {
          "output_type": "stream",
          "name": "stdout",
          "text": [
            "Bitwise AND Output of 10 and 4 is : 0\n",
            "\n",
            "Bitwise OR Output of 10 and 4 is : 14\n",
            "\n",
            "Bitwise XOR Output of 10 and 4 is : 14\n",
            "\n",
            "Bitwise NOT Output of 10 is : -11\n",
            "\n",
            "Bitwise Left Shift Output of 10 is : 40\n",
            "\n",
            "Bitwise Right Shift Output of 10 is : 2\n",
            "\n"
          ]
        }
      ]
    },
    {
      "cell_type": "code",
      "source": [
        "# Tenary (Conditional) Expression\n",
        "\n",
        "# Define some Integer Variable with some random Data\n",
        "x = 10\n",
        "y = 20\n",
        "\n",
        "# Tenary Expression (inline - ifelse)\n",
        "result = \"x is greater\" if x > y else \"y is greater\"\n",
        "print(f\"The Tenary Expression Output is : {result}\\n\")"
      ],
      "metadata": {
        "colab": {
          "base_uri": "https://localhost:8080/"
        },
        "collapsed": true,
        "id": "SnUCl4nnwMjC",
        "outputId": "ade125f0-43d4-40ef-d470-9a080a2179fe"
      },
      "execution_count": null,
      "outputs": [
        {
          "output_type": "stream",
          "name": "stdout",
          "text": [
            "The Tenary Expression Output is : y is greater\n",
            "\n"
          ]
        }
      ]
    },
    {
      "cell_type": "markdown",
      "source": [
        "**String Data-Type Most Important Operations:**\n",
        "In the cells below, I've discussed the string data type, how to use built-in string functions, different methods to display strings, and how to use the slicing method to extract substrings. I have also included links to YouTube videos and documentation for further understanding. If you're interested, feel free to check out the links below.\n",
        "\n",
        "https://docs.python.org/3/library/stdtypes.html#string-methods `(For the built-in functions of the string data type.)`\n",
        "\n",
        "https://www.youtube.com/watch?v=tb6EYiHtcXU  `(For the built-in functions of the string data type.)`\n",
        "\n",
        "https://www.youtube.com/watch?v=ErgSKwpEEDs   `(Youtube Video For the Slicing Method of the string data type.)`"
      ],
      "metadata": {
        "id": "MRkpm0sExYFF"
      }
    },
    {
      "cell_type": "code",
      "source": [
        "# Define the String Variable with random Data for the String Methods\n",
        "myString = \"master class\"\n",
        "\n",
        "\n",
        "# 1. len   --> Find out the Length of the String\n",
        "result = len(myString)\n",
        "print(f\"The length of this string <{myString}> is : {result}\\n\")\n",
        "\n",
        "# 2. Capitalize    --> Return a copy of the string with its first character capitalized and the rest lowercased.\n",
        "result = myString.capitalize()\n",
        "print(f\"The Capitalize Method Output is : {result}\\n\")\n",
        "\n",
        "# 3. format        --> If you want to add the numerical data in the strig.\n",
        "result = \"In which semester is the Data Science course offered : {0}\".format(1)\n",
        "print(\"Here is the resultant string : \" , result , \"\\n\")\n",
        "\n",
        "# 4. upper      --> Convert to the all Character in the Upper Case\n",
        "result = myString.upper()\n",
        "print(f\"The upper Method Output is : {result}\\n\")\n",
        "\n",
        "# 5. lower      --> Convert to the all character in the Lower Case\n",
        "result = myString.lower()\n",
        "print(f\"The lower Method Output is : {result}\\n\")\n",
        "\n",
        "# 6. count      --> Count the occurrences of the specific character\n",
        "result = myString.count('s')\n",
        "print(f\"The count Method Output is : {result}\\n\")\n",
        "\n",
        "# 7. isdigit    --> Return the True if the string character hold any digit otherwise False\n",
        "result = myString.isdigit()\n",
        "print(f\"The isdigit Method Output is : {result}\\n\")\n",
        "\n",
        "# 8. isalpha    -->\n",
        "result = myString.isalpha()\n",
        "print(f\"The isalpha Method Output is : {result}\\n\")"
      ],
      "metadata": {
        "colab": {
          "base_uri": "https://localhost:8080/"
        },
        "id": "eAo5-mdFzzDc",
        "outputId": "c4f8ab16-0a11-4c4d-f5a3-194a34213c30",
        "collapsed": true
      },
      "execution_count": null,
      "outputs": [
        {
          "output_type": "stream",
          "name": "stdout",
          "text": [
            "The length of this string <master class> is : 12\n",
            "\n",
            "The Capitalize Method Output is : Master class\n",
            "\n",
            "Here is the resultant string :  In which semester is the Data Science course offered : 1 \n",
            "\n",
            "The upper Method Output is : MASTER CLASS\n",
            "\n",
            "The lower Method Output is : master class\n",
            "\n",
            "The count Method Output is : 3\n",
            "\n",
            "The isdigit Method Output is : False\n",
            "\n",
            "The isalpha Method Output is : False\n",
            "\n"
          ]
        }
      ]
    },
    {
      "cell_type": "code",
      "source": [
        "# Display the String Data\n",
        "\n",
        "# 1. (Method No 1)\n",
        "\n",
        "print(\"Method No 1 \\n\")\n",
        "for data in myString:\n",
        "  # Display the Data\n",
        "  print(data , end = \" \")\n",
        "\n",
        "print(\"\\n_________________________\\n\")\n",
        "\n",
        "\n",
        "# 2. (Method No 2)\n",
        "\n",
        "print(\"Method No 2 \\n\")\n",
        "for index in range(0, len(myString)):\n",
        "  # Display the Data\n",
        "  print(myString[index] , end = \" \")\n",
        "\n",
        "print(\"\\n_________________________\\n\")\n",
        "\n",
        "\n",
        "# 3. (Method No 3)\n",
        "\n",
        "print(\"Method No 3 \\n\")\n",
        "for index , character in enumerate(myString):\n",
        "  print(f\"Index : {index} , Character : {character}\")"
      ],
      "metadata": {
        "id": "j1RXj55O0qbJ",
        "colab": {
          "base_uri": "https://localhost:8080/"
        },
        "collapsed": true,
        "outputId": "b8aa3643-5d56-4f3d-ff0f-16a75bb1d96a"
      },
      "execution_count": null,
      "outputs": [
        {
          "output_type": "stream",
          "name": "stdout",
          "text": [
            "Method No 1 \n",
            "\n",
            "m a s t e r   c l a s s \n",
            "_________________________\n",
            "\n",
            "Method No 2 \n",
            "\n",
            "m a s t e r   c l a s s \n",
            "_________________________\n",
            "\n",
            "Method No 3 \n",
            "\n",
            "Index : 0 , Character : m\n",
            "Index : 1 , Character : a\n",
            "Index : 2 , Character : s\n",
            "Index : 3 , Character : t\n",
            "Index : 4 , Character : e\n",
            "Index : 5 , Character : r\n",
            "Index : 6 , Character :  \n",
            "Index : 7 , Character : c\n",
            "Index : 8 , Character : l\n",
            "Index : 9 , Character : a\n",
            "Index : 10 , Character : s\n",
            "Index : 11 , Character : s\n"
          ]
        }
      ]
    },
    {
      "cell_type": "code",
      "source": [
        "# Display a substring from the actual string using the slicing method\n",
        "\n",
        "myString = \"master class\"\n",
        "\n",
        "# 1. Extract the master from the String\n",
        "result = myString[:6]\n",
        "print(f\"Here is the extracted sub-string : {result}\\n\")\n",
        "\n",
        "# 2. Extract the class from the String\n",
        "result = myString[7:]\n",
        "print(f\"Here is the extracted sub-string : {result}\\n\")\n",
        "\n",
        "# 3. Reverse the string\n",
        "result = myString[::-1]\n",
        "print(f\"Here is the reversed string : {result}\\n\")\n",
        "\n",
        "# 4. Display the every Second Character from the String\n",
        "result = myString[::2]\n",
        "print(f\"Here is the every Second Character from the String : {result}\\n\")\n",
        "\n",
        "# 5. Extract the <aster> from the String\n",
        "result = myString[1:6]\n",
        "print(f\"Here is the extracted sub-string : {result}\")"
      ],
      "metadata": {
        "colab": {
          "base_uri": "https://localhost:8080/"
        },
        "collapsed": true,
        "id": "ORa2CNErRQ4u",
        "outputId": "afc03cf2-a6c4-40a7-cc71-a0b26c989e3d"
      },
      "execution_count": null,
      "outputs": [
        {
          "output_type": "stream",
          "name": "stdout",
          "text": [
            "Here is the extracted sub-string : master\n",
            "\n",
            "Here is the extracted sub-string : class\n",
            "\n",
            "Here is the reversed string : ssalc retsam\n",
            "\n",
            "Here is the every Second Character from the String : mse ls\n",
            "\n",
            "Here is the extracted sub-string : aster\n"
          ]
        }
      ]
    },
    {
      "cell_type": "markdown",
      "source": [
        "**Conditional Statements:**\n",
        "Conditional statements allow you to control the logical flow of programs in a clean and compact way.\n",
        "\n",
        "`There are so many Conditional Statement in the Python:`\n",
        "\n",
        "*   **if statement**\n",
        "*   **if-esle statement**\n",
        "*   **elif statement**\n",
        "*   **match statement**\n",
        "*   **nested if-else statement**\n",
        "*   **Tenory (Conditional) Operator**\n",
        "\n",
        "`For more details, such as checking the syntax of each statement, feel free to explore the links provided below:`\n",
        "\n",
        "https://www.freecodecamp.org/news/python-if-else-statement-conditional-statements-explained/ `(Doc For the Conditional Statements.)`\n",
        "\n",
        "https://realpython.com/python-conditional-statements/ `(Doc For the Conditional Statements.)`\n"
      ],
      "metadata": {
        "id": "t4r0UV0pZNXM"
      }
    },
    {
      "cell_type": "markdown",
      "source": [
        "`if statement:`\n",
        "In the following two cells, I've provided two examples of if statements.\n",
        "\n",
        "`For more details, such as checking the syntax of if statement, feel free to explore the links provided below:`\n",
        "\n",
        "https://www.youtube.com/watch?v=FvMPfrgGeKs `(Youtube Video For the If Statement.)`\n"
      ],
      "metadata": {
        "id": "YnynGq4WADtE"
      }
    },
    {
      "cell_type": "code",
      "source": [
        "# 1. Question No 1 (Write a Python program that checks if a number is positive. If it is, print \"The number is positive)\n",
        "number = int(input(\"Enter the Number==>\"))\n",
        "\n",
        "if number >= 0:\n",
        "  print(\"\\nPositive Number\\n\")\n",
        "\n",
        "print(\"Program End\")"
      ],
      "metadata": {
        "id": "zz5orOJTTsjP",
        "colab": {
          "base_uri": "https://localhost:8080/"
        },
        "outputId": "cb486b99-0615-4cf0-e288-7f37922deced"
      },
      "execution_count": null,
      "outputs": [
        {
          "output_type": "stream",
          "name": "stdout",
          "text": [
            "Enter the Number==>67\n",
            "\n",
            "Positive Number\n",
            "\n",
            "Program End\n"
          ]
        }
      ]
    },
    {
      "cell_type": "code",
      "source": [
        "# 2. Question No 2 (Create a Python program that checks if a variable x is greater than 10. If true, print \"x is greater than 10)\n",
        "x = int(input(\"\\nEnte any Number==>\"))\n",
        "\n",
        "if x > 10:\n",
        "  print(\"\\nx is greater than 10\\n\")\n",
        "\n",
        "print(\"Program End\")"
      ],
      "metadata": {
        "colab": {
          "base_uri": "https://localhost:8080/"
        },
        "id": "Fj48cWsc-968",
        "outputId": "dd852376-9f3d-4d84-e033-d5f735478a9d"
      },
      "execution_count": null,
      "outputs": [
        {
          "output_type": "stream",
          "name": "stdout",
          "text": [
            "\n",
            "Ente any Number==>8\n",
            "Program End\n"
          ]
        }
      ]
    },
    {
      "cell_type": "markdown",
      "source": [
        "`if-else statement:`\n",
        "In the following two cells, I've provided two examples of if-else statements.\n",
        "\n",
        "`For more details, such as checking the syntax of if-else statement, feel free to explore the links provided below:`\n",
        "\n",
        "https://www.youtube.com/watch?v=FvMPfrgGeKs `(Youtube Video For the If-Else Statement.)`"
      ],
      "metadata": {
        "id": "c6bJgceyBWgA"
      }
    },
    {
      "cell_type": "code",
      "source": [
        "# 1. Question No 1 (Write a code that takes an integer age as input and prints \"Adult\" if the age is 18 or older, and \"Minor\" otherwise.)\n",
        "age = int(input(\"Enter your Age==>\"))\n",
        "\n",
        "if age >= 18:\n",
        "  print(\"\\nAdult\\n\")\n",
        "else:\n",
        "  print(\"\\nMinor\\n\")\n",
        "\n",
        "print(\"Program End\")"
      ],
      "metadata": {
        "colab": {
          "base_uri": "https://localhost:8080/"
        },
        "id": "TSSKiv1GAyjn",
        "outputId": "6537d74a-8fa3-4505-d702-9728ead462fc"
      },
      "execution_count": null,
      "outputs": [
        {
          "output_type": "stream",
          "name": "stdout",
          "text": [
            "Enter your Age==>23\n",
            "Adult\n",
            "\n",
            "Program End\n"
          ]
        }
      ]
    },
    {
      "cell_type": "code",
      "source": [
        "# 2. Question No 2 (Write a that takes an integer num as input and returns True if the number is even, and False otherwise.)\n",
        "num = int(input(\"Enter any Number==>\"))\n",
        "\n",
        "if num % 2 == 0:\n",
        "  print(\"\\nTrue\\n\")\n",
        "else:\n",
        "  print(\"\\nFalse\\n\")\n",
        "\n",
        "print(\"Program End\")"
      ],
      "metadata": {
        "colab": {
          "base_uri": "https://localhost:8080/"
        },
        "id": "QSIssGrVB3Vm",
        "outputId": "7b8348c0-d685-4831-ca7e-db30bc7fab2c"
      },
      "execution_count": null,
      "outputs": [
        {
          "output_type": "stream",
          "name": "stdout",
          "text": [
            "Enter any Number==>90\n",
            "\n",
            "True\n",
            "\n",
            "Program End\n"
          ]
        }
      ]
    },
    {
      "cell_type": "markdown",
      "source": [
        "`elif statement:`\n",
        "In the following two cells, I've provided two examples of elif statements.\n",
        "\n",
        "`For more details, such as checking the syntax of elif statement, feel free to explore the links provided below:`\n",
        "\n",
        "https://www.youtube.com/watch?v=FvMPfrgGeKs `(Youtube Video For the elif Statement.)`"
      ],
      "metadata": {
        "id": "umxCaHcUTRKB"
      }
    },
    {
      "cell_type": "code",
      "source": [
        "# 1. Question No 1 (Write Python code that takes an integer age and returns a string representing the category based on the following criteria:\n",
        "\n",
        "# If the age is 0 to 2 years old, return \"Infant\"\n",
        "# If the age is 3 to 12 years old, return \"Child\"\n",
        "# If the age is 13 to 19 years old, return \"Teenager\"\n",
        "# If the age is 20 to 64 years old, return \"Adult\"\n",
        "# If the age is 65 years or older, return \"Senior\")\n",
        "age = int(input(\"Enter the Age==>\"))\n",
        "\n",
        "if 0 <= age <= 2:\n",
        "    print(\"\\nInfant\\n\")\n",
        "elif 3 <= age <= 12:\n",
        "    print(\"\\nChild\\n\")\n",
        "elif 13 <= age <= 19:\n",
        "    print(\"\\nTeenager\\n\")\n",
        "elif 20 <= age <= 64:\n",
        "    print(\"\\nAdult\\n\")\n",
        "else:\n",
        "  print(\"\\nSenior\\n\")\n",
        "\n",
        "print(\"Program End\\n\")"
      ],
      "metadata": {
        "id": "Pr0n8LHMCQ89",
        "colab": {
          "base_uri": "https://localhost:8080/"
        },
        "outputId": "8c2a6e33-f8cf-4379-f480-815e0a35e485"
      },
      "execution_count": null,
      "outputs": [
        {
          "output_type": "stream",
          "name": "stdout",
          "text": [
            "Enter the Age==>2\n",
            "\n",
            "Infant\n",
            "\n",
            "Program End\n",
            "\n"
          ]
        }
      ]
    },
    {
      "cell_type": "code",
      "source": [
        "# 2. Question No 2 (Write a Python code that returns advice based on the temperature in Celsius:\n",
        "\n",
        "# Below 0°C: \"Freezing cold\"\n",
        "# 0°C to 10°C: \"Cold\"\n",
        "# 11°C to 20°C: \"Cool\"\n",
        "# 21°C to 30°C: \"Comfortable\"\n",
        "# Above 30°C: \"Hot\")\n",
        "temperature = float(input(\"Enter the Temperarure in C==>\"))\n",
        "\n",
        "if temperature < 0:\n",
        "    advice = \"Freezing cold\"\n",
        "elif 0 <= temperature <= 10:\n",
        "    advice = \"Cold\"\n",
        "elif 11 <= temperature <= 20:\n",
        "    advice = \"Cool\"\n",
        "elif 21 <= temperature <= 30:\n",
        "    advice = \"Comfortable\"\n",
        "else:\n",
        "    advice = \"Hot\"\n",
        "\n",
        "print(f\"\\n{advice}\\n\")\n",
        "print(\"Program End\")"
      ],
      "metadata": {
        "colab": {
          "base_uri": "https://localhost:8080/"
        },
        "id": "1F_sJ5cKTvB-",
        "outputId": "44e288f6-07bc-46cd-bddd-426e1521e139"
      },
      "execution_count": null,
      "outputs": [
        {
          "output_type": "stream",
          "name": "stdout",
          "text": [
            "Enter the Temperarure in C==>3\n",
            "\n",
            "Cold\n",
            "\n",
            "Program End\n"
          ]
        }
      ]
    },
    {
      "cell_type": "markdown",
      "source": [
        "`match statement:`\n",
        "In the following two cells, I've provided two examples of match statements.\n",
        "\n",
        "`For more details, such as checking the syntax of match statement, feel free to explore the links provided below:`\n",
        "\n",
        "https://www.youtube.com/watch?v=L7tT0NZF-Ag `(Youtube Video For the Match Statement.)`"
      ],
      "metadata": {
        "id": "dj0CF9IHWJH4"
      }
    },
    {
      "cell_type": "code",
      "source": [
        "# 1. Question No 1 (Write Python code that takes an integer age and returns a string representing the category based on the following criteria:\n",
        "\n",
        "# If the age is 0 to 2 years old, return \"Infant\"\n",
        "# If the age is 3 to 12 years old, return \"Child\"\n",
        "# If the age is 13 to 19 years old, return \"Teenager\"\n",
        "# If the age is 20 to 64 years old, return \"Adult\"\n",
        "# If the age is 65 years or older, return \"Senior\")\n",
        "age = int(input(\"Enter the Age==>\"))\n",
        "\n",
        "match age:\n",
        "  case age if 0 <= age <= 2:\n",
        "    print(\"\\nInfant\\n\")\n",
        "  case age if 3 <= age <= 12:\n",
        "    print(\"\\nChild\\n\")\n",
        "  case age if 13 <= age <= 19:\n",
        "    print(\"\\nTeenager\\n\")\n",
        "  case age if 20 <= age <= 64:\n",
        "    print(\"\\nAdult\\n\")\n",
        "  case age if age >= 65:\n",
        "    print(\"\\nSenior\\n\")\n",
        "  case _:\n",
        "    print(\"\\nInvalid age\\n\")\n",
        "\n",
        "print(\"Program End\\n\")"
      ],
      "metadata": {
        "colab": {
          "base_uri": "https://localhost:8080/"
        },
        "id": "HYU42eaMV4M0",
        "outputId": "465d3e19-5e8e-416f-9ebe-3cd317eecf28"
      },
      "execution_count": null,
      "outputs": [
        {
          "output_type": "stream",
          "name": "stdout",
          "text": [
            "Enter the Age==>-1\n",
            "\n",
            "Invalid age\n",
            "\n",
            "Program End\n",
            "\n"
          ]
        }
      ]
    },
    {
      "cell_type": "code",
      "source": [
        "# 2. Question No 2 (Write a Python code that returns advice based on the temperature in Celsius:\n",
        "\n",
        "# Below 0°C: \"Freezing cold\"\n",
        "# 0°C to 10°C: \"Cold\"\n",
        "# 11°C to 20°C: \"Cool\"\n",
        "# 21°C to 30°C: \"Comfortable\"\n",
        "# Above 30°C: \"Hot\")\n",
        "temperature = float(input(\"Enter the Temperarure in C==>\"))\n",
        "\n",
        "match temperature:\n",
        "  case temp if temp < 0:\n",
        "    print(\"\\nFreezing cold\\n\")\n",
        "  case temp if 0 <= temp <= 10:\n",
        "    print(\"\\nCold\\n\")\n",
        "  case temp if 11 <= temp <= 20:\n",
        "    print(\"\\nCool\\n\")\n",
        "  case temp if 21 <= temp <= 30:\n",
        "    print(\"\\nComfortable\\n\")\n",
        "  case temp if temp > 30:\n",
        "    print(\"\\nHot\\n\")\n",
        "\n",
        "print(\"Program End\\n\")"
      ],
      "metadata": {
        "colab": {
          "base_uri": "https://localhost:8080/"
        },
        "id": "eD_OX1KFWrHR",
        "outputId": "4df7fdf3-8c9b-49a6-f6fc-f478b3854582"
      },
      "execution_count": null,
      "outputs": [
        {
          "output_type": "stream",
          "name": "stdout",
          "text": [
            "Enter the Temperarure in C==>90\n",
            "\n",
            "Hot\n",
            "\n",
            "Program End\n",
            "\n"
          ]
        }
      ]
    },
    {
      "cell_type": "markdown",
      "source": [
        "`nested if-else statement:`\n",
        "In the following two cells, I've provided two examples of nested if-else statements.\n",
        "\n",
        "`For more details, such as checking the syntax of nested if-else statement, feel free to explore the links provided below:`\n",
        "\n",
        "https://www.youtube.com/watch?v=dePS_B7Loxs `(Youtube Video For the Match Statement.)`"
      ],
      "metadata": {
        "id": "cbd_vfHfYExk"
      }
    },
    {
      "cell_type": "code",
      "source": [
        "# 1. Question No 1 (Write Python code that checks if a person is eligible to vote and drive based on their age:\n",
        "\n",
        "# If the age is 18 or older, print \"Eligible to vote\".\n",
        "# If the age is between 16 and 17 (inclusive), print \"Eligible to drive but not vote\".\n",
        "# If the age is below 16, print \"Not eligible to vote or drive\")\n",
        "age = int(input(\"Enter your Age==>\"))\n",
        "\n",
        "if age >= 18:\n",
        "  print(\"\\nEligible to vote\\n\")\n",
        "else:\n",
        "  if 16 <= age <= 17:\n",
        "    print(\"\\nEligible to drive but not vote\\n\")\n",
        "  else:\n",
        "    print(\"\\nNot eligible to vote or drive\\n\")\n",
        "\n",
        "print(\"Program End\\n\")"
      ],
      "metadata": {
        "colab": {
          "base_uri": "https://localhost:8080/"
        },
        "id": "_glrlIZ3XovG",
        "outputId": "e01c1418-8bbe-4942-d551-a686960e7b97"
      },
      "execution_count": null,
      "outputs": [
        {
          "output_type": "stream",
          "name": "stdout",
          "text": [
            "Enter your Age==>45\n",
            "\n",
            "Eligible to vote\n",
            "\n",
            "Program End\n",
            "\n"
          ]
        }
      ]
    },
    {
      "cell_type": "code",
      "source": [
        "# 2. Question No 2 (check if a person qualifies for a special discount based on their age and membership status:\n",
        "\n",
        "# If the person is 65 or older, print \"Senior Discount\".\n",
        "# If the person is between 18 and 64 (inclusive) and is a member, print \"Member Discount\".\n",
        "# If the person is between 18 and 64 (inclusive) and is not a member, print \"No Discount\".)\n",
        "age = int(input(\"Enter your Age==>\"))\n",
        "is_member = True\n",
        "\n",
        "if age >= 65:\n",
        "  print(\"\\nSenior Discount\\n\")\n",
        "elif 18 <= age <= 64:\n",
        "  if is_member:\n",
        "    print(\"\\nMember Discount\\n\")\n",
        "  else:\n",
        "    print(\"\\nNo Discount\\n\")\n",
        "\n",
        "print(\"Program End\\n\")\n"
      ],
      "metadata": {
        "colab": {
          "base_uri": "https://localhost:8080/"
        },
        "id": "a1dhlXZ0YJhp",
        "outputId": "90a1c737-da49-45be-de59-6de3c410676e"
      },
      "execution_count": null,
      "outputs": [
        {
          "output_type": "stream",
          "name": "stdout",
          "text": [
            "Enter your Age==>19\n",
            "\n",
            "Member Discount\n",
            "\n",
            "Program End\n",
            "\n"
          ]
        }
      ]
    },
    {
      "cell_type": "markdown",
      "source": [
        "`Tenory (Conditional) Operator:`\n",
        "In the following two cells, I've provided two examples of Tenory (Conditional) Operator.\n",
        "\n",
        "`For more details, such as checking the syntax of Tenory (Conditional) Operator, feel free to explore the links provided below:`\n",
        "\n",
        "https://www.youtube.com/watch?v=TYyKQBC4bwE `(Youtube Video For the Tenory (Conditional) Operator.)`"
      ],
      "metadata": {
        "id": "nvD_IKxBZaoR"
      }
    },
    {
      "cell_type": "code",
      "source": [
        "# 1. Question No 1 (Checking if a number is even or odd using the ternary operator)\n",
        "number = int(input(\"Enter any Number==>\"))\n",
        "\n",
        "result = \"Even\" if number % 2 == 0 else \"Odd\"\n",
        "print(f\"\\n{number} is {result} :\\n\")"
      ],
      "metadata": {
        "colab": {
          "base_uri": "https://localhost:8080/"
        },
        "id": "_2vNt5h7ZOhM",
        "outputId": "7738f36e-c518-4da6-852f-952db4b2f6c3"
      },
      "execution_count": null,
      "outputs": [
        {
          "output_type": "stream",
          "name": "stdout",
          "text": [
            "Enter any Number==>4\n",
            "\n",
            "4 is Even\n",
            "\n"
          ]
        }
      ]
    },
    {
      "cell_type": "code",
      "source": [
        "# 2. Question No 2 (Determining eligibility for a senior discount based on age using the ternary operator)\n",
        "age = int(input(\"Enter your Age==>\"))\n",
        "\n",
        "result = \"Eligible\" if age >= 65 else \"Not Eligible\"\n",
        "print(f\"\\n{result} for Senior Discount :\\n\")"
      ],
      "metadata": {
        "colab": {
          "base_uri": "https://localhost:8080/"
        },
        "id": "mwu7riAyZxJR",
        "outputId": "dd37997a-2078-45d4-d186-6ff0e77f78d0"
      },
      "execution_count": null,
      "outputs": [
        {
          "output_type": "stream",
          "name": "stdout",
          "text": [
            "Enter your Age==>45\n",
            "\n",
            "Not Eligible for Senior Discount :\n",
            "\n"
          ]
        }
      ]
    },
    {
      "cell_type": "markdown",
      "source": [
        "**Loop:**\n",
        "loop is a control structure that allows for the repeated execution of a block of code based on a condition or a sequence of values. Loops are used to automate repetitive tasks and iterate over data collections efficiently.\n",
        "\n",
        "`There are 2 Types of Loop in Python:`\n",
        "*   **For Loop**\n",
        "*   **While Loop**\n",
        "*   **Nested Loop**\n",
        "\n",
        "`For more details, such as checking the syntax of each loop, feel free to explore the links provided below:`\n",
        "\n",
        "https://docs.python.org/3/tutorial/controlflow.html#for-statements  `(Doc for the For Loop.)`\n",
        "\n",
        "https://www.learnpython.org/en/Loops  `(Doc for the For & While.)`"
      ],
      "metadata": {
        "id": "eTuy7DOCbKAK"
      }
    },
    {
      "cell_type": "markdown",
      "source": [
        "`for loop:`\n",
        "In the following two cells, I've provided two examples of for loop.\n",
        "\n",
        "`For more details, such as checking the syntax of for loop, feel free to explore the links provided below:`\n",
        "\n",
        "https://www.youtube.com/watch?v=KWgYha0clzw `(Youtube Video For the for loop.)`\n"
      ],
      "metadata": {
        "id": "pcSRBJHdqabu"
      }
    },
    {
      "cell_type": "code",
      "source": [
        "# 1. Question No 1 (Write a Python Code for loop that iterates over a list of numbers and prints the square of each number.)\n",
        "\n",
        "myList = [2 , 3 , 4 , 5 , 6]\n",
        "\n",
        "# Sqauare the each element from the List\n",
        "for index in range(0,len(myList)):\n",
        "  print(f\"The Square of {myList[index]} is : {myList[index] ** 2}\\n\")"
      ],
      "metadata": {
        "colab": {
          "base_uri": "https://localhost:8080/"
        },
        "id": "-KSxQ7AUbJgk",
        "outputId": "3ef97660-4e96-4ad4-b68d-b601c7a67c01"
      },
      "execution_count": null,
      "outputs": [
        {
          "output_type": "stream",
          "name": "stdout",
          "text": [
            "The Square of 2 is : 4\n",
            "\n",
            "The Square of 3 is : 9\n",
            "\n",
            "The Square of 4 is : 16\n",
            "\n",
            "The Square of 5 is : 25\n",
            "\n",
            "The Square of 6 is : 36\n",
            "\n"
          ]
        }
      ]
    },
    {
      "cell_type": "code",
      "source": [
        "# 2. Question No 2 (Write a Python Code for loop that calculates and prints the sum of all elements in a list of integers.)\n",
        "\n",
        "myList = [10 , 20 , 30 , 40 , 50]\n",
        "\n",
        "# Calculate the Sum of all elements\n",
        "sum = 0\n",
        "for data in myList:\n",
        "  sum += data\n",
        "print(f\"The Sum of all elements in the List is : {sum}\\n\")"
      ],
      "metadata": {
        "colab": {
          "base_uri": "https://localhost:8080/"
        },
        "id": "3hRy8yGrrFo6",
        "outputId": "3c4a1368-dff5-4e7a-a176-0395162a91d1"
      },
      "execution_count": null,
      "outputs": [
        {
          "output_type": "stream",
          "name": "stdout",
          "text": [
            "The Sum of all elements in the List is : 150\n",
            "\n"
          ]
        }
      ]
    },
    {
      "cell_type": "markdown",
      "source": [
        "`while loop:`\n",
        "In the following two cells, I've provided two examples of while loop.\n",
        "\n",
        "`For more details, such as checking the syntax of while loop, feel free to explore the links provided below:`\n",
        "\n",
        "https://www.youtube.com/watch?v=rRTjPnVooxE `(Youtube Video For the while loop.)`\n"
      ],
      "metadata": {
        "id": "F7qnroDErmP8"
      }
    },
    {
      "cell_type": "code",
      "source": [
        "# 1. Question No 1 (Write a Python Code for loop that iterates over a list of numbers and prints the square of each number.)\n",
        "\n",
        "myList = [2 , 3 , 4 , 5 , 6]\n",
        "\n",
        "# Sqauare the each element from the List\n",
        "index = 0\n",
        "while(index < len(myList)):\n",
        "  print(f\"The Square of {myList[index]} is : {myList[index] ** 2}\\n\")\n",
        "  index += 1"
      ],
      "metadata": {
        "colab": {
          "base_uri": "https://localhost:8080/"
        },
        "id": "UtH-DbTwrcpC",
        "outputId": "261417d4-bb48-4e95-c121-6634d04c9aca"
      },
      "execution_count": null,
      "outputs": [
        {
          "output_type": "stream",
          "name": "stdout",
          "text": [
            "The Square of 2 is : 4\n",
            "\n",
            "The Square of 3 is : 9\n",
            "\n",
            "The Square of 4 is : 16\n",
            "\n",
            "The Square of 5 is : 25\n",
            "\n",
            "The Square of 6 is : 36\n",
            "\n"
          ]
        }
      ]
    },
    {
      "cell_type": "code",
      "source": [
        "# 2. Question No 2 (Write a Python Code for loop that calculates and prints the sum of all elements in a list of integers.)\n",
        "\n",
        "myList = [10 , 20 , 30 , 40 , 50]\n",
        "\n",
        "# Calculate the Sum of all elements\n",
        "sum = 0\n",
        "index = 0\n",
        "while(index < len(myList)):\n",
        "  sum += myList[index]\n",
        "  index += 1\n",
        "print(f\"The Sum of all elements in the List is : {sum}\\n\")"
      ],
      "metadata": {
        "colab": {
          "base_uri": "https://localhost:8080/"
        },
        "id": "_ueSTtI2r2gT",
        "outputId": "022c8e97-3590-424c-988d-f1ab4b10a42b",
        "collapsed": true
      },
      "execution_count": null,
      "outputs": [
        {
          "output_type": "stream",
          "name": "stdout",
          "text": [
            "The Sum of all elements in the List is : 150\n",
            "\n"
          ]
        }
      ]
    },
    {
      "cell_type": "markdown",
      "source": [
        "`Nested Loop:`\n",
        "In the following two cells, I've provided two examples of nested loop.\n",
        "\n",
        "`For more details, such as checking the syntax of nested loop, feel free to explore the links provided below:`\n",
        "\n",
        "https://www.youtube.com/watch?v=APWy6Pc83gE `(Youtube Video For the nested loop.)`\n"
      ],
      "metadata": {
        "id": "-2axXgL0se6G"
      }
    },
    {
      "cell_type": "code",
      "source": [
        "# 1. Question No 1 (Write a Python program using nested loops to print a  grid of numbers, where each cell contains its row number.)\n",
        "row = int(input(\"Enter the Row==>\"))\n",
        "col = int(input(\"Enter the Col==>\"))\n",
        "\n",
        "for i in range(row):\n",
        "  for j in range(col):\n",
        "    print(i, end=' ')\n",
        "  print()"
      ],
      "metadata": {
        "id": "R3fEgnJzsJvx",
        "colab": {
          "base_uri": "https://localhost:8080/"
        },
        "outputId": "43efec9a-9ea6-4e8f-f0d2-c390c5559851",
        "collapsed": true
      },
      "execution_count": null,
      "outputs": [
        {
          "output_type": "stream",
          "name": "stdout",
          "text": [
            "Enter the Row==>3\n",
            "Enter the Col==>3\n",
            "0 0 0 \n",
            "1 1 1 \n",
            "2 2 2 \n"
          ]
        }
      ]
    },
    {
      "cell_type": "code",
      "source": [
        "# 2. Question No 2 (Write a Python program using nested loops to print the following pattern\n",
        "\n",
        "# *\n",
        "# * *\n",
        "# * * *\n",
        "# * * * *\n",
        "# * * * * *)\n",
        "row = int(input(\"Enter the Row==>\"))\n",
        "\n",
        "# Display the Pattern\n",
        "for i in range(row):\n",
        "  for j in range(i + 1):\n",
        "    print('*', end=' ')\n",
        "  print()"
      ],
      "metadata": {
        "colab": {
          "base_uri": "https://localhost:8080/"
        },
        "id": "5L2tLpPTtm2L",
        "outputId": "6876d85e-ad84-4bfc-e460-aa955bb36bca",
        "collapsed": true
      },
      "execution_count": null,
      "outputs": [
        {
          "output_type": "stream",
          "name": "stdout",
          "text": [
            "Enter the Row==>4\n",
            "* \n",
            "* * \n",
            "* * * \n",
            "* * * * \n"
          ]
        }
      ]
    },
    {
      "cell_type": "markdown",
      "source": [
        "**Function:**\n",
        "A function is a block of code that runs only when it is called. It can take input data, known as parameters, and can return data as a result. Functions help organize code and make it reusable and manageable.\n",
        "\n",
        "In Python a function is defined using the `def keyword`.\n",
        "\n",
        "In the following two cells, I've provided two examples of functions.\n",
        "\n",
        "`For more details, such as checking the syntax of function, feel free to explore the links provided below:`\n",
        "\n",
        "https://www.w3schools.com/python/python_functions.asp `(Doc For the Function.)`\n",
        "\n",
        "https://www.easypythondocs.com/functions.html `(Doc For the Function.)`\n",
        "\n",
        "https://www.youtube.com/watch?v=89cGQjB5R4M `(Youtube Video For the Function.)`\n"
      ],
      "metadata": {
        "id": "4h1Ncg4ge_KI"
      }
    },
    {
      "cell_type": "code",
      "source": [
        "# 1. Question No 1 (Write a Python function is_even(n) that takes an integer n and returns True if the number is even, and False otherwise.)\n",
        "def is_even(n):\n",
        "  if n % 2 == 0:\n",
        "    return True\n",
        "  else:\n",
        "    return False\n",
        "\n",
        "number = int(input(\"Enter any Number==>\"))\n",
        "result = is_even(number)\n",
        "print(f\"\\n{number} is Even : {result}\\n\")"
      ],
      "metadata": {
        "id": "3Tp8CBUxuIIg",
        "colab": {
          "base_uri": "https://localhost:8080/"
        },
        "outputId": "6937bc2b-7777-49fd-cf9f-d451a27f4f1f"
      },
      "execution_count": null,
      "outputs": [
        {
          "output_type": "stream",
          "name": "stdout",
          "text": [
            "Enter any Number==>3\n",
            "\n",
            "3 is Even : False\n",
            "\n"
          ]
        }
      ]
    },
    {
      "cell_type": "code",
      "source": [
        "# 2. Question No 2 (Write a function find_max(lst) that takes a list of numbers as an argument and returns the largest number in the list. )\n",
        "def find_max(lst):\n",
        "  max = lst[0]\n",
        "  for data in lst:\n",
        "    if data > max:\n",
        "      max = data\n",
        "  return max\n",
        "\n",
        "myList = [10 , 20 , 30 , 40 , 50]\n",
        "result = find_max(myList)\n",
        "print(f\"\\nThe Maximum Number in the List is : {result}\\n\")"
      ],
      "metadata": {
        "colab": {
          "base_uri": "https://localhost:8080/"
        },
        "id": "EnWzZHb9k3M4",
        "outputId": "87fbe0fd-f8ab-42fc-ce3b-7787deae262b"
      },
      "execution_count": null,
      "outputs": [
        {
          "output_type": "stream",
          "name": "stdout",
          "text": [
            "\n",
            "The Maximum Number in the List is : 50\n",
            "\n"
          ]
        }
      ]
    },
    {
      "cell_type": "markdown",
      "source": [
        "**List:**\n",
        "A list stores multiple items in a single variable. It's ordered, changeable, and allows duplicates, created using square brackets `[]`.\n",
        "\n",
        "`For more details, such as checking the syntax of List, feel free to explore the links provided below:`\n",
        "\n",
        "https://www.w3schools.com/python/python_lists.asp `(Doc For the List.)`\n",
        "\n",
        "https://docs.python.org/3/tutorial/datastructures.html `(Doc For the List.)`\n",
        "\n",
        "https://www.youtube.com/watch?v=gOMW_n2-2Mw  `(Youtube Video For the List)`"
      ],
      "metadata": {
        "id": "61jtTgoO7bQI"
      }
    },
    {
      "cell_type": "code",
      "source": [
        "# 1. Creating the List\n",
        "myList = [10 , True , 50 , \"Master Class\" , 4.7]\n",
        "\n",
        "# 2. Get the Length of List\n",
        "print(f\"Here is the Length of the List : {len(myList)}\")\n",
        "print(\"____________________________________________\\n\")\n",
        "\n",
        "# 3. Accessing Elements by Index\n",
        "print(f\"Here is the 2nd Index Data : {myList[2]}\\n\")\n",
        "print(f\"Here is the 3rd Index Data : {myList[3]}\")\n",
        "print(\"____________________________________________\\n\")\n",
        "\n",
        "# 4. Modifying Elements\n",
        "myList[1] = False\n",
        "myList[-1] = 6.3\n",
        "print(f\"Here is the 1st Index Data After Modifying : {myList[1]}\\n\")\n",
        "print(f\"Here is the 5th Index Data After Modifying : {myList[-1]}\")\n",
        "print(\"____________________________________________\\n\")\n",
        "\n",
        "# 5. Slicing in List\n",
        "print(f\"Display the 2nd to 4th Index Data : {myList[2:5]}\\n\")\n",
        "print(f\"Display the Data after each Second data : {myList[::2]}\")\n",
        "print(\"____________________________________________\")"
      ],
      "metadata": {
        "id": "_tKDgeAIlPXb",
        "colab": {
          "base_uri": "https://localhost:8080/"
        },
        "collapsed": true,
        "outputId": "4036425c-a54b-4e61-a0ed-0a6c76bbaa48"
      },
      "execution_count": null,
      "outputs": [
        {
          "output_type": "stream",
          "name": "stdout",
          "text": [
            "Here is the Length of the List : 5\n",
            "____________________________________________\n",
            "\n",
            "Here is the 2nd Index Data : 50\n",
            "\n",
            "Here is the 3rd Index Data : Master Class\n",
            "____________________________________________\n",
            "\n",
            "Here is the 1st Index Data After Modifying : False\n",
            "\n",
            "Here is the 5th Index Data After Modifying : 6.3\n",
            "____________________________________________\n",
            "\n",
            "Display the 2nd to 4th Index Data : [50, 'Master Class', 6.3]\n",
            "\n",
            "Display the Data after each Second data : [10, 50, 6.3]\n",
            "____________________________________________\n"
          ]
        }
      ]
    },
    {
      "cell_type": "code",
      "source": [
        "# Displaying the List with Different Different Methods\n",
        "\n",
        "# 1. Method No 1\n",
        "print(myList)\n",
        "print(\"____________________________________________\\n\")\n",
        "\n",
        "# 2. Method No 2\n",
        "for data in myList:\n",
        "  print(data)\n",
        "print(\"____________________________________________\\n\")\n",
        "\n",
        "# 3. Method No 3\n",
        "for index in range(0,len(myList)):\n",
        "  print(myList[index])\n",
        "print(\"____________________________________________\\n\")\n",
        "\n",
        "# 4. Method No 4\n",
        "for index , data in enumerate(myList):\n",
        "  print(index , \" : \" , data)\n",
        "print(\"____________________________________________\\n\")\n",
        "\n",
        "# 5. Method No 5 (List Comprehension)\n",
        "[print(data) for data in myList]\n",
        "print(\"____________________________________________\\n\")\n",
        "\n",
        "# 6. Method No 6 (List Comprehension)\n",
        "[print(index , \" : \" , data) for index , data in enumerate(myList)]\n",
        "print(\"____________________________________________\\n\")"
      ],
      "metadata": {
        "colab": {
          "base_uri": "https://localhost:8080/"
        },
        "collapsed": true,
        "id": "IggvtlZW9tWz",
        "outputId": "9d9cc0b6-9742-4a93-c9c8-f4373a321ed5"
      },
      "execution_count": null,
      "outputs": [
        {
          "output_type": "stream",
          "name": "stdout",
          "text": [
            "[10, False, 50, 'Master Class', 6.3]\n",
            "____________________________________________\n",
            "\n",
            "10\n",
            "False\n",
            "50\n",
            "Master Class\n",
            "6.3\n",
            "____________________________________________\n",
            "\n",
            "10\n",
            "False\n",
            "50\n",
            "Master Class\n",
            "6.3\n",
            "____________________________________________\n",
            "\n",
            "0  :  10\n",
            "1  :  False\n",
            "2  :  50\n",
            "3  :  Master Class\n",
            "4  :  6.3\n",
            "____________________________________________\n",
            "\n",
            "10\n",
            "False\n",
            "50\n",
            "Master Class\n",
            "6.3\n",
            "____________________________________________\n",
            "\n",
            "0  :  10\n",
            "1  :  False\n",
            "2  :  50\n",
            "3  :  Master Class\n",
            "4  :  6.3\n",
            "____________________________________________\n",
            "\n"
          ]
        }
      ]
    },
    {
      "cell_type": "code",
      "source": [
        "# Built-In Functions for the List\n",
        "\n",
        "# Display the List\n",
        "myList = [10 , True , 50 , \"Master Class\" , 6.3]\n",
        "print(myList)\n",
        "print(\"____________________________________________\\n\")\n",
        "\n",
        "# 1. append ( Adds an element to the end of the list)\n",
        "myList.append(\"Data Science Course\")\n",
        "print(f\"Here is the Data of List after append the new Data : \\n{myList}\")\n",
        "print(\"____________________________________________\\n\")\n",
        "\n",
        "# 2. insert ( Inserts an element at a specific position)\n",
        "myList.insert(2 , \"1st Smster\")\n",
        "print(f\"Here is the Data of List after insert the new Data : \\n{myList}\")\n",
        "print(\"____________________________________________\\n\")\n",
        "\n",
        "# 3. index ( Returns the index of the first element with the specified value)\n",
        "index = myList.index(6.3)\n",
        "print(f\"Here is the Index of 6.3 : {index}\")\n",
        "print(\"____________________________________________\\n\")\n",
        "\n",
        "# 5. count ( Returns the number of times an element appears in the list)\n",
        "count = myList.count(10)\n",
        "print(f\"Here is the Count of 10 : {count}\")\n",
        "print(\"____________________________________________\\n\")\n",
        "\n",
        "# 6. pop ( Removes and returns the element at a specific position (or the last element if no index is specified))\n",
        "myList.pop()\n",
        "print(f\"Here is the Data of List after pop the last Data : \\n{myList}\")\n",
        "print(\"____________________________________________\\n\")\n",
        "\n",
        "# 7. remove ( Removes the first occurrence of the specified value)\n",
        "myList.remove(\"1st Smster\")\n",
        "print(f\"Here is the Data of List after remove the Data : \\n{myList}\")\n",
        "print(\"____________________________________________\\n\")\n",
        "\n",
        "# 8. reverse ( Reverses the order of the elements in the list)\n",
        "myList.reverse()\n",
        "print(f\"Here is the Data of List after reverse the Data : \\n{myList}\")\n",
        "print(\"____________________________________________\\n\")\n",
        "\n",
        "# 9. clear ( Removes all elements from the list)\n",
        "myList.clear()\n",
        "print(f\"Here is the Data of List after clear the Data : \\n{myList}\")\n",
        "print(\"____________________________________________\\n\")"
      ],
      "metadata": {
        "colab": {
          "base_uri": "https://localhost:8080/"
        },
        "collapsed": true,
        "id": "Pyk7u_Fj_vqq",
        "outputId": "feeb7ddf-da70-4e20-e503-1a1dd7bf54ec"
      },
      "execution_count": null,
      "outputs": [
        {
          "output_type": "stream",
          "name": "stdout",
          "text": [
            "[10, True, 50, 'Master Class', 6.3]\n",
            "____________________________________________\n",
            "\n",
            "Here is the Data of List after append the new Data : \n",
            "[10, True, 50, 'Master Class', 6.3, 'Data Science Course']\n",
            "____________________________________________\n",
            "\n",
            "Here is the Data of List after insert the new Data : \n",
            "[10, True, '1st Smster', 50, 'Master Class', 6.3, 'Data Science Course']\n",
            "____________________________________________\n",
            "\n",
            "Here is the Index of 6.3 : 5\n",
            "____________________________________________\n",
            "\n",
            "Here is the Count of 10 : 1\n",
            "____________________________________________\n",
            "\n",
            "Here is the Data of List after pop the last Data : \n",
            "[10, True, '1st Smster', 50, 'Master Class', 6.3]\n",
            "____________________________________________\n",
            "\n",
            "Here is the Data of List after remove the Data : \n",
            "[10, True, 50, 'Master Class', 6.3]\n",
            "____________________________________________\n",
            "\n",
            "Here is the Data of List after reverse the Data : \n",
            "[6.3, 'Master Class', 50, True, 10]\n",
            "____________________________________________\n",
            "\n",
            "Here is the Data of List after clear the Data : \n",
            "[]\n",
            "____________________________________________\n",
            "\n"
          ]
        }
      ]
    },
    {
      "cell_type": "markdown",
      "source": [
        "**Dictionary:**\n",
        "A dictionary in Python stores data in key-value pairs, is ordered, changeable, and disallows duplicate keys. It's created using curly brackets `{}`, with each key linked to a value.\n",
        "\n",
        "`For more details, such as checking the syntax of Dictionary, feel free to explore the links provided below:`\n",
        "\n",
        "https://www.w3schools.com/python/python_dictionaries.asp `(Doc For the Dictionary)`\n",
        "\n",
        "https://docs.python.org/3/tutorial/datastructures.html#dictionaries `(Doc For the Dictionary)`\n",
        "\n",
        "https://www.youtube.com/watch?v=MZZSMaEAC2g `(Youtube Video For the Dictionary)`"
      ],
      "metadata": {
        "id": "KGcRphcqDGwO"
      }
    },
    {
      "cell_type": "code",
      "source": [
        "# 1. Creating the Dictionary\n",
        "myDict = {\n",
        "    \"name\" : \"usama\",\n",
        "    \"degree\" : \"master\",\n",
        "    \"age\" : 23,\n",
        "    \"course\" : \"datascience\"\n",
        "}\n",
        "\n",
        "# 2. Get the Length of Dictionary\n",
        "print(f\"Here is the Length of the Dictionary : {len(myDict)}\")\n",
        "print(\"____________________________________________\\n\")\n",
        "\n",
        "# 3. Accessing Values by Keys\n",
        "print(\"Here is the Value of age : {}\".format(myDict[\"age\"]))\n",
        "print(\"Here is the Value of degree : {}\".format(myDict[\"degree\"]))\n",
        "print(\"____________________________________________\\n\")\n",
        "\n",
        "# 4. Modifying Elements by Keys\n",
        "myDict[\"age\"] = 24\n",
        "myDict[\"degree\"] = \"phd\"\n",
        "print(\"Here is the Value of age after modifying : {}\".format(myDict[\"age\"]))\n",
        "print(\"Here is the Value of degree after modifying : {}\".format(myDict[\"degree\"]))\n",
        "print(\"____________________________________________\\n\")\n",
        "\n",
        "# 5. Adding new Key-Value Pair\n",
        "myDict[\"Smster\"] = \"1st\"\n",
        "print(\"Here is the new Dictionary after adding new key-value : \\n{}\".format(myDict))\n",
        "print(\"____________________________________________\\n\")"
      ],
      "metadata": {
        "colab": {
          "base_uri": "https://localhost:8080/"
        },
        "collapsed": true,
        "id": "w4osPobDAvoc",
        "outputId": "88fd717c-a494-4f95-c79b-0e4a4e8a9218"
      },
      "execution_count": null,
      "outputs": [
        {
          "output_type": "stream",
          "name": "stdout",
          "text": [
            "Here is the Length of the Dictionary : 4\n",
            "____________________________________________\n",
            "\n",
            "Here is the Value of age : 23\n",
            "Here is the Value of degree : master\n",
            "____________________________________________\n",
            "\n",
            "Here is the Value of age after modifying : 24\n",
            "Here is the Value of degree after modifying : phd\n",
            "____________________________________________\n",
            "\n",
            "Here is the new Dictionary after adding new key-value : \n",
            "{'name': 'usama', 'degree': 'phd', 'age': 24, 'course': 'datascience', 'Smster': '1st'}\n",
            "____________________________________________\n",
            "\n"
          ]
        }
      ]
    },
    {
      "cell_type": "code",
      "source": [
        "# Dsiplaying the Values of Dictionary\n",
        "\n",
        "# 1. Method No 1\n",
        "print(myDict)\n",
        "print(\"____________________________________________\\n\")\n",
        "\n",
        "# 2. Method No 2\n",
        "for key in myDict:\n",
        "  print(key , \" : \" , myDict[key])\n",
        "print(\"____________________________________________\\n\")\n",
        "\n",
        "# 3. Method No 3 (Only Display Values)\n",
        "for value in myDict.values():\n",
        "  print(value)\n",
        "print(\"____________________________________________\\n\")\n",
        "\n",
        "# 4. Method No 4 (Only Display Keys)\n",
        "for key in myDict.keys():\n",
        "  print(key)\n",
        "print(\"____________________________________________\\n\")\n",
        "\n",
        "# 5. Method No 5\n",
        "for key , value in myDict.items():\n",
        "  print(key , \" : \" , value)\n",
        "print(\"____________________________________________\\n\")"
      ],
      "metadata": {
        "colab": {
          "base_uri": "https://localhost:8080/"
        },
        "collapsed": true,
        "id": "MjzBaiDlG5cl",
        "outputId": "868f5663-4f04-41b7-adda-02cb70406256"
      },
      "execution_count": null,
      "outputs": [
        {
          "output_type": "stream",
          "name": "stdout",
          "text": [
            "{'name': 'usama', 'degree': 'phd', 'age': 24, 'course': 'datascience', 'Smster': '1st'}\n",
            "____________________________________________\n",
            "\n",
            "name  :  usama\n",
            "degree  :  phd\n",
            "age  :  24\n",
            "course  :  datascience\n",
            "Smster  :  1st\n",
            "____________________________________________\n",
            "\n",
            "usama\n",
            "phd\n",
            "24\n",
            "datascience\n",
            "1st\n",
            "____________________________________________\n",
            "\n",
            "name\n",
            "degree\n",
            "age\n",
            "course\n",
            "Smster\n",
            "____________________________________________\n",
            "\n",
            "name  :  usama\n",
            "degree  :  phd\n",
            "age  :  24\n",
            "course  :  datascience\n",
            "Smster  :  1st\n",
            "____________________________________________\n",
            "\n"
          ]
        }
      ]
    },
    {
      "cell_type": "code",
      "source": [
        "# Built-In Functions for the Dictionary\n",
        "\n",
        "# Display the Dictionary\n",
        "myDict = {\n",
        "    \"name\" : \"usama\",\n",
        "    \"degree\" : \"master\",\n",
        "    \"age\" : 23,\n",
        "    \"course\" : \"datascience\"\n",
        "}\n",
        "print(myDict)\n",
        "print(\"____________________________________________\\n\")\n",
        "\n",
        "# 1. Keys ( Returns a view object that displays a list of all the keys in the dictionary)\n",
        "print(f\"Here is the all keys of this Dictionary : \\n{myDict.keys()}\")\n",
        "print(\"____________________________________________\\n\")\n",
        "\n",
        "# 2. Values ( Returns a view object that displays a list of all the values in the dictionary)\n",
        "print(f\"Here is the all values of this Dictionary : \\n{myDict.values()}\")\n",
        "print(\"____________________________________________\\n\")\n",
        "\n",
        "# 3. items ( Returns a view object that displays a list of the key-value pairs in the dictionary)\n",
        "print(f\"Here is the all items of this Dictionary : \\n{myDict.items()}\")\n",
        "print(\"____________________________________________\\n\")\n",
        "\n",
        "# 5. copy ( Returns a shallow copy of the dictionary)\n",
        "newDict = myDict.copy()\n",
        "print(f\"Here is the copy of this Dictionary : \\n{newDict}\")\n",
        "print(\"____________________________________________\\n\")\n",
        "\n",
        "# 6. pop ( Removes the element with the specified key)\n",
        "myDict.pop(\"age\")\n",
        "print(f\"Here is the Data of Dictionary after pop the Data : \\n{myDict}\")\n",
        "print(\"____________________________________________\\n\")\n",
        "\n",
        "# 7. popitem ( Removes the last inserted key-value pair)\n",
        "myDict.popitem()\n",
        "print(f\"Here is the Data of Dictionary after popitem the Data : \\n{myDict}\")\n",
        "print(\"____________________________________________\\n\")\n",
        "\n",
        "# 8. clear ( Removes all the elements from the dictionary)\n",
        "myDict.clear()\n",
        "print(f\"Here is the Data of Dictionary after clear the Data : \\n{myDict}\")\n",
        "print(\"____________________________________________\\n\")"
      ],
      "metadata": {
        "id": "C3L-T9wDHgFR"
      },
      "execution_count": null,
      "outputs": []
    },
    {
      "cell_type": "markdown",
      "source": [
        "**Tuple:**\n",
        "A tuple in Python stores multiple items in a single variable. It is an ordered, allow dupliacte values and unchangeable collection, meaning its contents cannot be modified after creation. Tuples are written using round brackets `()`.\n",
        "\n",
        "`For more details, such as checking the syntax of Tuple, feel free to explore the links provided below:`\n",
        "\n",
        "https://www.w3schools.com/python/python_tuples.asp `(Doc For the Tuple)`\n",
        "\n",
        "https://docs.python.org/3/tutorial/datastructures.html#tuples-and-sequences `(Doc For the Tuple)`\n",
        "\n",
        "https://www.youtube.com/watch?v=gOMW_n2-2Mw `(Youtube Video Fpr the Tuple)`\n"
      ],
      "metadata": {
        "id": "NSkomc-DKNpH"
      }
    },
    {
      "cell_type": "code",
      "source": [
        "# 1. Creating the Tuple\n",
        "myTuple = (1 , \"usama\" , True , \"master class\" , 4)\n",
        "\n",
        "# 2. Get the Length of the Tuple\n",
        "print(f\"Here is the Length of the Tuple : {len(myTuple)}\")\n",
        "print(\"____________________________________________\\n\")\n",
        "\n",
        "# 3. Accessing Elements by Index\n",
        "print(f\"Here is the 2nd Index Data : {myTuple[2]}\")\n",
        "print(\"____________________________________________\\n\")\n",
        "\n",
        "# 4. Slicing in Tuple\n",
        "print(f\"Display the 2nd to 4th Index Data : {myTuple[2:5]}\\n\")\n",
        "print(f\"Display the Data after each Second data : {myTuple[::2]}\")\n",
        "print(\"____________________________________________\\n\")\n",
        "\n",
        "# 5. Modfiying the Element\n",
        "# myTuple[2] = False    # Get Error (Because we cant modify the Element)"
      ],
      "metadata": {
        "colab": {
          "base_uri": "https://localhost:8080/"
        },
        "collapsed": true,
        "id": "NxCj_4v7JNNW",
        "outputId": "e5568403-fa82-4fd0-c6ae-4f5756705399"
      },
      "execution_count": null,
      "outputs": [
        {
          "output_type": "stream",
          "name": "stdout",
          "text": [
            "Here is the Length of the Tuple : 5\n",
            "____________________________________________\n",
            "\n",
            "Here is the 2nd Index Data : True\n",
            "____________________________________________\n",
            "\n",
            "Display the 2nd to 4th Index Data : (True, 'master class', 4)\n",
            "\n",
            "Display the Data after each Second data : (1, True, 4)\n",
            "____________________________________________\n",
            "\n"
          ]
        }
      ]
    },
    {
      "cell_type": "code",
      "source": [
        "# Displaying the Tuple with Different Different Methods\n",
        "\n",
        "# 1. Method No 1\n",
        "print(myTuple)\n",
        "print(\"____________________________________________\\n\")\n",
        "\n",
        "# 2. Method No 2\n",
        "for data in myTuple:\n",
        "  print(data)\n",
        "print(\"____________________________________________\\n\")\n",
        "\n",
        "# 3. Method No 3\n",
        "for index in range(0,len(myTuple)):\n",
        "  print(myTuple[index])\n",
        "print(\"____________________________________________\\n\")\n",
        "\n",
        "# 4. Method No 4\n",
        "for index , data in enumerate(myTuple):\n",
        "  print(index , \" : \" , data)\n",
        "print(\"____________________________________________\\n\")\n",
        "\n",
        "# 5. Method No 5 (List Comprehension)\n",
        "[print(data) for data in myTuple]\n",
        "print(\"____________________________________________\\n\")\n",
        "\n",
        "# 6. Method No 6 (List Comprehension)\n",
        "[print(index , \" : \" , data) for index , data in enumerate(myTuple)]\n",
        "print(\"____________________________________________\\n\")"
      ],
      "metadata": {
        "colab": {
          "base_uri": "https://localhost:8080/"
        },
        "collapsed": true,
        "id": "dOwStIaFLZ7t",
        "outputId": "57d9c166-eb18-48cf-ce75-ecf4c8835fd4"
      },
      "execution_count": null,
      "outputs": [
        {
          "output_type": "stream",
          "name": "stdout",
          "text": [
            "(1, 'usama', True, 'master class', 4)\n",
            "____________________________________________\n",
            "\n",
            "1\n",
            "usama\n",
            "True\n",
            "master class\n",
            "4\n",
            "____________________________________________\n",
            "\n",
            "1\n",
            "usama\n",
            "True\n",
            "master class\n",
            "4\n",
            "____________________________________________\n",
            "\n",
            "0  :  1\n",
            "1  :  usama\n",
            "2  :  True\n",
            "3  :  master class\n",
            "4  :  4\n",
            "____________________________________________\n",
            "\n",
            "1\n",
            "usama\n",
            "True\n",
            "master class\n",
            "4\n",
            "____________________________________________\n",
            "\n",
            "0  :  1\n",
            "1  :  usama\n",
            "2  :  True\n",
            "3  :  master class\n",
            "4  :  4\n",
            "____________________________________________\n",
            "\n"
          ]
        }
      ]
    },
    {
      "cell_type": "code",
      "source": [
        "# Built-In Functions for the Tuple\n",
        "\n",
        "# Display the Tuple\n",
        "myTuple = (1 , \"usama\" , True , \"master class\" , 4 , 1)\n",
        "print(myTuple)\n",
        "print(\"____________________________________________\\n\")\n",
        "\n",
        "# 1. count ( Returns the number of times a specified value appears in the tuple)\n",
        "count = myTuple.count(1)\n",
        "print(f\"Here is the Count of 1 : {count}\")\n",
        "print(\"____________________________________________\\n\")\n",
        "\n",
        "# 2. index ( Returns the index of the first occurrence of a specified value)\n",
        "index = myTuple.index(4)\n",
        "print(f\"Here is the Index of 4 : {index}\")\n",
        "print(\"____________________________________________\\n\")\n",
        "\n",
        "\n",
        "\n",
        "### These are built-in functions of Tuple, If you want to apply more buit-in function then convert the tuple into List and apply all\n",
        "### built-in functions of List."
      ],
      "metadata": {
        "colab": {
          "base_uri": "https://localhost:8080/"
        },
        "id": "h-AA7XVTL2gz",
        "outputId": "fc9fa717-0a88-43ce-ffd1-59915b3f1aaf"
      },
      "execution_count": null,
      "outputs": [
        {
          "output_type": "stream",
          "name": "stdout",
          "text": [
            "(1, 'usama', True, 'master class', 4, 1)\n",
            "____________________________________________\n",
            "\n",
            "Here is the Count of 1 : 3\n",
            "____________________________________________\n",
            "\n",
            "Here is the Index of 4 : 4\n",
            "____________________________________________\n",
            "\n"
          ]
        }
      ]
    },
    {
      "cell_type": "markdown",
      "source": [
        "**Set:**\n",
        "A set in Python is used to store multiple items in a single variable. It is an unordered, unchangeable (immutable), and unindexed collection. Sets are created using curly brackets `{}` and do not allow duplicate elements.\n",
        "\n",
        "`For more details, such as checking the syntax of set, feel free to explore the links provided below:`\n",
        "\n",
        "https://www.w3schools.com/python/python_sets.asp `(Doc For the Set)`\n",
        "\n",
        "https://docs.python.org/3/tutorial/datastructures.html#sets `(Doc For the Set)`\n",
        "\n",
        "https://www.youtube.com/watch?v=MZZSMaEAC2g `(Youtube Video For the Set)`"
      ],
      "metadata": {
        "id": "C2LXksgPNzd-"
      }
    },
    {
      "cell_type": "code",
      "source": [
        "# 1. Creating the Set\n",
        "mySet = {\n",
        "    2 , 4 , 6 , \"Usama Husnain\" , True , False , \"Master Class\" , 10\n",
        "}\n",
        "\n",
        "# 2. Get the Length of the Set\n",
        "print(f\"Here is the Length of the Set : {len(mySet)}\")\n",
        "print(\"____________________________________________\\n\")\n",
        "\n",
        "# 3. Cant Access the Data with the Help of Index\n",
        "\n",
        "# 4. Cant Modifying the Element"
      ],
      "metadata": {
        "colab": {
          "base_uri": "https://localhost:8080/"
        },
        "collapsed": true,
        "id": "0Crnp3UyM_Ga",
        "outputId": "695cbe83-7724-4416-f626-bcef1bc5209f"
      },
      "execution_count": null,
      "outputs": [
        {
          "output_type": "stream",
          "name": "stdout",
          "text": [
            "Here is the Length of the Set : 8\n",
            "____________________________________________\n",
            "\n"
          ]
        }
      ]
    },
    {
      "cell_type": "code",
      "source": [
        "# Displaying the Set with Different Different Methods\n",
        "\n",
        "# 1. Method No 1\n",
        "print(mySet)\n",
        "print(\"____________________________________________\\n\")\n",
        "\n",
        "# 2. Method No 2\n",
        "for data in mySet:\n",
        "  print(data)\n",
        "print(\"____________________________________________\\n\")\n",
        "\n",
        "# 3. Method No 5 (List Comprehension)\n",
        "[print(data) for data in mySet]\n",
        "print(\"____________________________________________\\n\")\n"
      ],
      "metadata": {
        "colab": {
          "base_uri": "https://localhost:8080/"
        },
        "collapsed": true,
        "id": "z3qzFoaSPXQW",
        "outputId": "2cb46128-16cb-49c4-a689-f42de2106f49"
      },
      "execution_count": null,
      "outputs": [
        {
          "output_type": "stream",
          "name": "stdout",
          "text": [
            "{False, True, 2, 4, 'Usama Husnain', 6, 10, 'Master Class'}\n",
            "____________________________________________\n",
            "\n",
            "False\n",
            "True\n",
            "2\n",
            "4\n",
            "Usama Husnain\n",
            "6\n",
            "10\n",
            "Master Class\n",
            "____________________________________________\n",
            "\n",
            "False\n",
            "True\n",
            "2\n",
            "4\n",
            "Usama Husnain\n",
            "6\n",
            "10\n",
            "Master Class\n",
            "____________________________________________\n",
            "\n"
          ]
        }
      ]
    },
    {
      "cell_type": "code",
      "source": [
        "# Built-In Functions for the Set\n",
        "\n",
        "# Display the Set\n",
        "mySet1 = {\n",
        "    2 , 4 , 6 , \"Usama Husnain\" , True , False , \"Master Class\" , 10\n",
        "}\n",
        "\n",
        "mySet2 = {\n",
        "  2 , 6 , \"Usama Husnain\" , True , \"Data Science\"\n",
        "}\n",
        "\n",
        "print(mySet1)\n",
        "print(mySet2)\n",
        "print(\"____________________________________________\\n\")\n",
        "\n",
        "# 1. add ( Adds an element to the set)\n",
        "mySet1.add(\"Data Science\")\n",
        "print(f\"Here is the Data of Set after add the new Data : \\n{mySet1}\")\n",
        "print(\"____________________________________________\\n\")\n",
        "\n",
        "# 2. copy ( Returns a shallow copy of the set)\n",
        "newSet = mySet1.copy()\n",
        "print(f\"Here is the copy of this Set : \\n{newSet}\")\n",
        "print(\"____________________________________________\\n\")\n",
        "\n",
        "# 3. differnce ( Returns a set containing elements that are in the set but not in the others)\n",
        "diff = mySet1.difference(mySet2)\n",
        "print(f\"Here is the difference of this Set : \\n{diff}\")\n",
        "print(\"____________________________________________\\n\")\n",
        "\n",
        "# 4. difference_update ( Removes elements found in the other sets)\n",
        "mySet1.difference_update(mySet2)\n",
        "print(f\"Here is the difference_update of this Set : \\n{mySet1}\")\n",
        "print(\"____________________________________________\\n\")\n",
        "\n",
        "# 5. remove ( Removes a specific element)\n",
        "mySet1.remove(4)\n",
        "print(f\"Here is the Data of Set after remove the Data : \\n{mySet1}\")\n",
        "print(\"____________________________________________\\n\")\n",
        "\n",
        "# 6. union ( Returns a set with all elements from all sets)\n",
        "print(mySet1)\n",
        "print(mySet2)\n",
        "union = mySet1.union(mySet2)\n",
        "print(f\"Here is the union of this Set : \\n{union}\")\n",
        "print(\"____________________________________________\\n\")\n",
        "\n",
        "# 7. update ( Updates the set with elements from all sets)\n",
        "print(mySet1)\n",
        "print(mySet2)\n",
        "mySet1.update(mySet2)\n",
        "print(f\"Here is the update of this Set : \\n{mySet1}\")\n",
        "print(\"____________________________________________\\n\")"
      ],
      "metadata": {
        "colab": {
          "base_uri": "https://localhost:8080/"
        },
        "id": "A8J83pRhP-fV",
        "outputId": "10dbbe79-3c76-42d3-fc72-72617a7172cf"
      },
      "execution_count": null,
      "outputs": [
        {
          "output_type": "stream",
          "name": "stdout",
          "text": [
            "{False, True, 2, 4, 'Usama Husnain', 6, 10, 'Master Class'}\n",
            "{True, 2, 'Usama Husnain', 6, 'Data Science'}\n",
            "____________________________________________\n",
            "\n",
            "Here is the Data of Set after add the new Data : \n",
            "{False, True, 2, 4, 'Usama Husnain', 6, 10, 'Master Class', 'Data Science'}\n",
            "____________________________________________\n",
            "\n",
            "Here is the copy of this Set : \n",
            "{False, True, 2, 4, 'Usama Husnain', 6, 10, 'Master Class', 'Data Science'}\n",
            "____________________________________________\n",
            "\n",
            "Here is the difference of this Set : \n",
            "{False, 10, 4, 'Master Class'}\n",
            "____________________________________________\n",
            "\n",
            "Here is the difference_update of this Set : \n",
            "{False, 4, 10, 'Master Class'}\n",
            "____________________________________________\n",
            "\n",
            "Here is the Data of Set after remove the Data : \n",
            "{False, 10, 'Master Class'}\n",
            "____________________________________________\n",
            "\n",
            "{False, 10, 'Master Class'}\n",
            "{True, 2, 'Usama Husnain', 6, 'Data Science'}\n",
            "Here is the union of this Set : \n",
            "{False, True, 2, 'Usama Husnain', 6, 10, 'Master Class', 'Data Science'}\n",
            "____________________________________________\n",
            "\n",
            "{False, 10, 'Master Class'}\n",
            "{True, 2, 'Usama Husnain', 6, 'Data Science'}\n",
            "Here is the update of this Set : \n",
            "{False, True, 2, 6, 'Usama Husnain', 10, 'Master Class', 'Data Science'}\n",
            "____________________________________________\n",
            "\n"
          ]
        }
      ]
    },
    {
      "cell_type": "code",
      "source": [],
      "metadata": {
        "id": "ZuSLwYIAQLY9"
      },
      "execution_count": null,
      "outputs": []
    }
  ]
}