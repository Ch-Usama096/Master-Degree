{
  "nbformat": 4,
  "nbformat_minor": 0,
  "metadata": {
    "colab": {
      "provenance": []
    },
    "kernelspec": {
      "name": "python3",
      "display_name": "Python 3"
    },
    "language_info": {
      "name": "python"
    }
  },
  "cells": [
    {
      "cell_type": "markdown",
      "source": [
        "# **Business Application Project**"
      ],
      "metadata": {
        "id": "r0plmgvjtf4D"
      }
    },
    {
      "cell_type": "code",
      "source": [
        "# Import the Module\n",
        "from IPython.display import clear_output"
      ],
      "metadata": {
        "id": "GyYyCWC-_3eq"
      },
      "execution_count": 155,
      "outputs": []
    },
    {
      "cell_type": "code",
      "source": [
        "# Add the Some Product Information in the Dictionary\n",
        "productData = {\n",
        "    \"p01\" : {\"Name\" : \"Refrigerator\"    , \"Description\" : \"Electronic Machine\" , \"Price\" : 300 , \"Image\" : \"refrigerator.jpg\"   , \"Rating\" : 4.5},\n",
        "    \"p04\" : {\"Name\" : \"WashingMachine\"  , \"Description\" : \"Electronic Machine\" , \"Price\" : 200 , \"Image\" : \"washing_machine.jpg\", \"Rating\" : 4.2},\n",
        "    \"p05\" : {\"Name\" : \"Dishwasher\"      , \"Description\" : \"Electronic Machine\" , \"Price\" : 150 , \"Image\" : \"dishwasher.jpg\"     , \"Rating\" : 4.8},\n",
        "    \"p06\" : {\"Name\" : \"CoffeeMaker\"     , \"Description\" : \"Electronic Machine\" , \"Price\" : 250 , \"Image\" : \"coffee_maker.jpg\"   , \"Rating\" : 4.3},\n",
        "    \"p07\" : {\"Name\" : \"Toaster\"         , \"Description\" : \"Electronic Machine\" , \"Price\" : 210 , \"Image\" : \"toaster.jpg\"        , \"Rating\" : 4.0},\n",
        "    \"p08\" : {\"Name\" : \"Blender\"         , \"Description\" : \"Electronic Machine\" , \"Price\" : 190 , \"Image\" : \"blender.jpg\"        , \"Rating\" : 4.5},\n",
        "    \"p10\" : {\"Name\" : \"AirPurifier\"     , \"Description\" : \"Electronic Machine\" , \"Price\" : 180 , \"Image\" : \"air_purifier.jpg\"   , \"Rating\" : 4.6},\n",
        "    \"p11\" : {\"Name\" : \"ElectricKettle\"  , \"Description\" : \"Electronic Machine\" , \"Price\" : 170 , \"Image\" : \"electric_kettle.jpg\", \"Rating\" : 4.1},\n",
        "    \"p12\" : {\"Name\" : \"NewMachine\"      , \"Description\" : \"Electronic Machine\" , \"Price\" : 160 , \"Image\" : \"new_machine.jpg\"    , \"Rating\" : 4.0}\n",
        "}"
      ],
      "metadata": {
        "id": "0stEZleX89lb"
      },
      "execution_count": 156,
      "outputs": []
    },
    {
      "cell_type": "markdown",
      "source": [
        "**Define the Funcntions For the CRUD Operation**"
      ],
      "metadata": {
        "id": "Y74tUuQAEWsw"
      }
    },
    {
      "cell_type": "code",
      "source": [
        "# Define the Function for the detail of CRUD Operation\n",
        "def crud_operation():\n",
        "  print(\"1. Show All Products\")\n",
        "  print(\"2. Add  New Product\")\n",
        "  print(\"3. Delete a Product\")\n",
        "  print(\"4. Update a Product Rating\")\n",
        "  print(\"5. Exit\")"
      ],
      "metadata": {
        "id": "sSPz79WoEgS6"
      },
      "execution_count": 157,
      "outputs": []
    },
    {
      "cell_type": "code",
      "source": [
        "# Define the Function for Display the Product Data from the Dictionary\n",
        "def show_all_product(prodData):\n",
        "  while True:\n",
        "    # Display the All Product\n",
        "\n",
        "    clear_output(wait = False) # Remove the Display Output from the Terminal\n",
        "\n",
        "    print(f\"{'pid':<15}{'Name':<20}{'Description':<25}{'Price':<10}{'Image':<25}{'Rating':<10}\")\n",
        "    for product_id , details in prodData.items():\n",
        "      print(f\"{product_id:<10}{details['Name']:<20}{details['Description']:<30}{details['Price']:<10}{details['Image']:<25}{details['Rating']:<10}\")\n",
        "\n",
        "    print(\"You want to go to the Main Menu, Press 1: \")\n",
        "    choice = int(input(\"Enter your choice for Program Main Manu ==>\"))\n",
        "    if choice == 1:\n",
        "      clear_output(wait = False) # Remove the Display Output from the Terminal\n",
        "      break"
      ],
      "metadata": {
        "id": "jvM768futfZt"
      },
      "execution_count": 158,
      "outputs": []
    },
    {
      "cell_type": "code",
      "source": [
        "# Define the Fucntion for Adding the New Product in the Dictionary\n",
        "def add_new_product(prodData):\n",
        "    while True:\n",
        "      # Get the All Data for New Product from the User\n",
        "\n",
        "      clear_output(wait = False) # Remove the Display Output from the Terminal\n",
        "\n",
        "      productId = input(\"Enter the Product ID :\")\n",
        "      productName = input(\"Enter the Product Name :\")\n",
        "      productDescription = input(\"Enter the Product Description :\")\n",
        "      productPrice = int(input(\"Enter the Product Price :\"))\n",
        "      productImage = input(\"Enter the Product Image :\")\n",
        "      productRating = float(input(\"Enter the Product Rating :\"))\n",
        "\n",
        "      # Check the Product Already Add or not\n",
        "      flag = True\n",
        "      while flag:\n",
        "        if productId in prodData:\n",
        "            print(\"Your Product Id already exist in the Dictionary, please change the product Id : \")\n",
        "            productId = input(\"Enter Again Product ID :\")\n",
        "        else:\n",
        "            flag = False\n",
        "\n",
        "      clear_output(wait = False) # Remove the Display Output from the Terminal\n",
        "\n",
        "      # Adding the Data in the Dictionary\n",
        "      prodData[productId] = {\n",
        "          \"Name\" : productName,\n",
        "          \"Description\" : productDescription,\n",
        "          \"Price\" : productPrice,\n",
        "          \"Image\" : productImage,\n",
        "          \"Rating\" : productRating\n",
        "      }\n",
        "\n",
        "      print(\"New Product Added Successfully\")\n",
        "\n",
        "      print(\"You want to Add the New Product Data , Press 1 Otherwise Press 0 : \")\n",
        "      choice = int(input(\"Enter your choice for adding the product==>\"))\n",
        "      if choice == 1:\n",
        "        clear_output(wait = False) # Remove the Display Output from the Terminal\n",
        "        continue\n",
        "      else:\n",
        "        clear_output(wait = False) # Remove the Display Output from the Terminal\n",
        "        break"
      ],
      "metadata": {
        "id": "ipQhB7lwElwi"
      },
      "execution_count": 159,
      "outputs": []
    },
    {
      "cell_type": "code",
      "source": [
        "# Define the Fucntion for Deleting the Product in the Dictionary\n",
        "def delete_product(prodData):\n",
        "  while True:\n",
        "    # Delete the Product in the Dictionary\n",
        "    clear_output(wait = False) # Remove the Display Output from the Terminal\n",
        "\n",
        "    productId = input(\"Enter the Product ID :\")\n",
        "\n",
        "    while True:\n",
        "      if productId in prodData:\n",
        "        del prodData[productId]\n",
        "        clear_output(wait = False) # Remove the Display Output from the Terminal\n",
        "        print(\"Product Deleted Successfully\")\n",
        "        break\n",
        "      else:\n",
        "        clear_output(wait = False) # Remove the Display Output from the Terminal\n",
        "        print(\"Product Not Found , Please enter the correct product id : \")\n",
        "        productId = input(\"Enter the Again Product ID :\")\n",
        "\n",
        "    print(\"You don't Want to again Delete the another Product , Press -1 Otherwise Press 0: \")\n",
        "    choice = int(input(\"Enter your choice for deleting the product==>\"))\n",
        "    if choice == -1:\n",
        "      clear_output(wait = False) # Remove the Display Output from the Terminal\n",
        "      break\n",
        "    else:\n",
        "      clear_output(wait = False) # Remove the Display Output from the Terminal\n",
        "      continue"
      ],
      "metadata": {
        "id": "RmOYK15IIjAl"
      },
      "execution_count": 160,
      "outputs": []
    },
    {
      "cell_type": "code",
      "source": [
        "# Define the Function for the Update the Product Rating from the Dictionary\n",
        "def update_product_info(prodData):\n",
        "  while True:\n",
        "    # Update the Product Info According to the Product Id\n",
        "\n",
        "    clear_output(wait = False) # Remove the Display Output from the Terminal\n",
        "\n",
        "    productId = input(\"Enter the Product ID :\")\n",
        "\n",
        "    # Update the Product Rating from the Dictionary\n",
        "    while True:\n",
        "        if productId in prodData:\n",
        "          newRating = float(input(\"Enter the New Product Rating :\"))\n",
        "          prodData[productId][\"Rating\"] = newRating\n",
        "          clear_output(wait = False) # Remove the Display Output from the Terminal\n",
        "          print(\"Product Rating Updated Successfully\")\n",
        "          break\n",
        "        else:\n",
        "          clear_output(wait = False) # Remove the Display Output from the Terminal\n",
        "          print(\"Product Not Found , Please enter the correct product id : \")\n",
        "          productId = input(\"Enter the Again Product ID :\")\n",
        "\n",
        "    print(\"You want again another update the Product Rating , Press 1 Otherwise Press 0 : \")\n",
        "    choice = int(input(\"Enter your choice for updating the product rating==>\"))\n",
        "    if choice == 1:\n",
        "      clear_output(wait = False) # Remove the Display Output from the Terminal\n",
        "      continue\n",
        "    else:\n",
        "      clear_output(wait = False) # Remove the Display Output from the Terminal\n",
        "      break"
      ],
      "metadata": {
        "id": "mvEMS0KgMUDU"
      },
      "execution_count": 161,
      "outputs": []
    },
    {
      "cell_type": "markdown",
      "source": [
        "**Main Flow of the Project**"
      ],
      "metadata": {
        "id": "u2L9TZOwEmdi"
      }
    },
    {
      "cell_type": "code",
      "source": [
        "while True:\n",
        "\n",
        "  # Display the All CRUD Operations for this Project\n",
        "  crud_operation()\n",
        "\n",
        "  # Get the Input from the user\n",
        "  choice = int(input(\"Enter your Choice (1-5)==>\"))\n",
        "\n",
        "  # Check the Choice Data is Correct or Not\n",
        "  if choice >= 1 and choice <= 5:\n",
        "    if choice == 1:\n",
        "      # Display the All Product Details\n",
        "      show_all_product(productData)\n",
        "\n",
        "    elif choice == 2:\n",
        "      # Add the New Product in the Dictionary\n",
        "      add_new_product(productData)\n",
        "\n",
        "    elif choice == 3:\n",
        "      # Delete the Product in the Dictionary\n",
        "      delete_product(productData)\n",
        "    elif choice == 4:\n",
        "      # Update the Product Rating in the Dictionary\n",
        "      update_product_info(productData)\n",
        "\n",
        "    elif choice == 5:\n",
        "      # Break the Program\n",
        "      break\n",
        "\n",
        "  else:\n",
        "    print(\"Invalid Choice , please select the choice between (1-5) :\")"
      ],
      "metadata": {
        "colab": {
          "base_uri": "https://localhost:8080/"
        },
        "id": "xD0_sJkJ2LNG",
        "outputId": "61fac7ee-bc67-4502-9db1-bda2ab04bbf1"
      },
      "execution_count": 164,
      "outputs": [
        {
          "name": "stdout",
          "output_type": "stream",
          "text": [
            "1. Show All Products\n",
            "2. Add  New Product\n",
            "3. Delete a Product\n",
            "4. Update a Product Rating\n",
            "5. Exit\n",
            "Enter your Choice (1-5)==>5\n"
          ]
        }
      ]
    },
    {
      "cell_type": "code",
      "source": [],
      "metadata": {
        "id": "NiEVaAPT7zD3"
      },
      "execution_count": null,
      "outputs": []
    }
  ]
}