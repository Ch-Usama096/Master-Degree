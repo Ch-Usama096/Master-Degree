{
  "nbformat": 4,
  "nbformat_minor": 0,
  "metadata": {
    "colab": {
      "provenance": []
    },
    "kernelspec": {
      "name": "python3",
      "display_name": "Python 3"
    },
    "language_info": {
      "name": "python"
    }
  },
  "cells": [
    {
      "cell_type": "markdown",
      "source": [
        "**All Important Modules**"
      ],
      "metadata": {
        "id": "yVLuejxuAPS5"
      }
    },
    {
      "cell_type": "code",
      "execution_count": 75,
      "metadata": {
        "id": "XY59Iv-Q_NHm"
      },
      "outputs": [],
      "source": [
        "# Import the Modules\n",
        "import numpy as np\n",
        "import pandas as pd\n",
        "import matplotlib.pyplot as plt\n",
        "import seaborn as sns\n",
        "\n",
        "from sklearn.impute import SimpleImputer\n",
        "from sklearn.preprocessing import LabelEncoder , OneHotEncoder\n",
        "from sklearn.preprocessing import MinMaxScaler , StandardScaler\n",
        "\n",
        "from sklearn.model_selection import train_test_split"
      ]
    },
    {
      "cell_type": "markdown",
      "source": [
        "**Information ABout the Dataset**"
      ],
      "metadata": {
        "id": "-Aqql7StAdE7"
      }
    },
    {
      "cell_type": "code",
      "source": [
        "# Load the Dataset\n",
        "dataset = pd.read_csv('/content/bike_buyers.csv')\n",
        "\n",
        "# Display the Data from the Dataset\n",
        "dataset.sample(2)"
      ],
      "metadata": {
        "colab": {
          "base_uri": "https://localhost:8080/",
          "height": 164
        },
        "id": "q6lJcgrIAcVA",
        "outputId": "88923a19-043f-4ec8-d0cf-3811ddbe0144"
      },
      "execution_count": 45,
      "outputs": [
        {
          "output_type": "execute_result",
          "data": {
            "text/plain": [
              "        ID Marital Status  Gender    Income  Children  Education  \\\n",
              "633  22088        Married  Female  130000.0       1.0  Bachelors   \n",
              "375  15628        Married  Female   40000.0       1.0  Bachelors   \n",
              "\n",
              "         Occupation Home Owner  Cars Commute Distance         Region   Age  \\\n",
              "633      Management        Yes   2.0        0-1 Miles  North America  45.0   \n",
              "375  Skilled Manual        Yes   1.0        0-1 Miles         Europe  89.0   \n",
              "\n",
              "    Purchased Bike  \n",
              "633            Yes  \n",
              "375             No  "
            ],
            "text/html": [
              "\n",
              "  <div id=\"df-7f692b6e-3d6a-490d-a649-e21ac90b4c4d\" class=\"colab-df-container\">\n",
              "    <div>\n",
              "<style scoped>\n",
              "    .dataframe tbody tr th:only-of-type {\n",
              "        vertical-align: middle;\n",
              "    }\n",
              "\n",
              "    .dataframe tbody tr th {\n",
              "        vertical-align: top;\n",
              "    }\n",
              "\n",
              "    .dataframe thead th {\n",
              "        text-align: right;\n",
              "    }\n",
              "</style>\n",
              "<table border=\"1\" class=\"dataframe\">\n",
              "  <thead>\n",
              "    <tr style=\"text-align: right;\">\n",
              "      <th></th>\n",
              "      <th>ID</th>\n",
              "      <th>Marital Status</th>\n",
              "      <th>Gender</th>\n",
              "      <th>Income</th>\n",
              "      <th>Children</th>\n",
              "      <th>Education</th>\n",
              "      <th>Occupation</th>\n",
              "      <th>Home Owner</th>\n",
              "      <th>Cars</th>\n",
              "      <th>Commute Distance</th>\n",
              "      <th>Region</th>\n",
              "      <th>Age</th>\n",
              "      <th>Purchased Bike</th>\n",
              "    </tr>\n",
              "  </thead>\n",
              "  <tbody>\n",
              "    <tr>\n",
              "      <th>633</th>\n",
              "      <td>22088</td>\n",
              "      <td>Married</td>\n",
              "      <td>Female</td>\n",
              "      <td>130000.0</td>\n",
              "      <td>1.0</td>\n",
              "      <td>Bachelors</td>\n",
              "      <td>Management</td>\n",
              "      <td>Yes</td>\n",
              "      <td>2.0</td>\n",
              "      <td>0-1 Miles</td>\n",
              "      <td>North America</td>\n",
              "      <td>45.0</td>\n",
              "      <td>Yes</td>\n",
              "    </tr>\n",
              "    <tr>\n",
              "      <th>375</th>\n",
              "      <td>15628</td>\n",
              "      <td>Married</td>\n",
              "      <td>Female</td>\n",
              "      <td>40000.0</td>\n",
              "      <td>1.0</td>\n",
              "      <td>Bachelors</td>\n",
              "      <td>Skilled Manual</td>\n",
              "      <td>Yes</td>\n",
              "      <td>1.0</td>\n",
              "      <td>0-1 Miles</td>\n",
              "      <td>Europe</td>\n",
              "      <td>89.0</td>\n",
              "      <td>No</td>\n",
              "    </tr>\n",
              "  </tbody>\n",
              "</table>\n",
              "</div>\n",
              "    <div class=\"colab-df-buttons\">\n",
              "\n",
              "  <div class=\"colab-df-container\">\n",
              "    <button class=\"colab-df-convert\" onclick=\"convertToInteractive('df-7f692b6e-3d6a-490d-a649-e21ac90b4c4d')\"\n",
              "            title=\"Convert this dataframe to an interactive table.\"\n",
              "            style=\"display:none;\">\n",
              "\n",
              "  <svg xmlns=\"http://www.w3.org/2000/svg\" height=\"24px\" viewBox=\"0 -960 960 960\">\n",
              "    <path d=\"M120-120v-720h720v720H120Zm60-500h600v-160H180v160Zm220 220h160v-160H400v160Zm0 220h160v-160H400v160ZM180-400h160v-160H180v160Zm440 0h160v-160H620v160ZM180-180h160v-160H180v160Zm440 0h160v-160H620v160Z\"/>\n",
              "  </svg>\n",
              "    </button>\n",
              "\n",
              "  <style>\n",
              "    .colab-df-container {\n",
              "      display:flex;\n",
              "      gap: 12px;\n",
              "    }\n",
              "\n",
              "    .colab-df-convert {\n",
              "      background-color: #E8F0FE;\n",
              "      border: none;\n",
              "      border-radius: 50%;\n",
              "      cursor: pointer;\n",
              "      display: none;\n",
              "      fill: #1967D2;\n",
              "      height: 32px;\n",
              "      padding: 0 0 0 0;\n",
              "      width: 32px;\n",
              "    }\n",
              "\n",
              "    .colab-df-convert:hover {\n",
              "      background-color: #E2EBFA;\n",
              "      box-shadow: 0px 1px 2px rgba(60, 64, 67, 0.3), 0px 1px 3px 1px rgba(60, 64, 67, 0.15);\n",
              "      fill: #174EA6;\n",
              "    }\n",
              "\n",
              "    .colab-df-buttons div {\n",
              "      margin-bottom: 4px;\n",
              "    }\n",
              "\n",
              "    [theme=dark] .colab-df-convert {\n",
              "      background-color: #3B4455;\n",
              "      fill: #D2E3FC;\n",
              "    }\n",
              "\n",
              "    [theme=dark] .colab-df-convert:hover {\n",
              "      background-color: #434B5C;\n",
              "      box-shadow: 0px 1px 3px 1px rgba(0, 0, 0, 0.15);\n",
              "      filter: drop-shadow(0px 1px 2px rgba(0, 0, 0, 0.3));\n",
              "      fill: #FFFFFF;\n",
              "    }\n",
              "  </style>\n",
              "\n",
              "    <script>\n",
              "      const buttonEl =\n",
              "        document.querySelector('#df-7f692b6e-3d6a-490d-a649-e21ac90b4c4d button.colab-df-convert');\n",
              "      buttonEl.style.display =\n",
              "        google.colab.kernel.accessAllowed ? 'block' : 'none';\n",
              "\n",
              "      async function convertToInteractive(key) {\n",
              "        const element = document.querySelector('#df-7f692b6e-3d6a-490d-a649-e21ac90b4c4d');\n",
              "        const dataTable =\n",
              "          await google.colab.kernel.invokeFunction('convertToInteractive',\n",
              "                                                    [key], {});\n",
              "        if (!dataTable) return;\n",
              "\n",
              "        const docLinkHtml = 'Like what you see? Visit the ' +\n",
              "          '<a target=\"_blank\" href=https://colab.research.google.com/notebooks/data_table.ipynb>data table notebook</a>'\n",
              "          + ' to learn more about interactive tables.';\n",
              "        element.innerHTML = '';\n",
              "        dataTable['output_type'] = 'display_data';\n",
              "        await google.colab.output.renderOutput(dataTable, element);\n",
              "        const docLink = document.createElement('div');\n",
              "        docLink.innerHTML = docLinkHtml;\n",
              "        element.appendChild(docLink);\n",
              "      }\n",
              "    </script>\n",
              "  </div>\n",
              "\n",
              "\n",
              "<div id=\"df-7ffaa047-c2e9-4656-a5de-da9460b55356\">\n",
              "  <button class=\"colab-df-quickchart\" onclick=\"quickchart('df-7ffaa047-c2e9-4656-a5de-da9460b55356')\"\n",
              "            title=\"Suggest charts\"\n",
              "            style=\"display:none;\">\n",
              "\n",
              "<svg xmlns=\"http://www.w3.org/2000/svg\" height=\"24px\"viewBox=\"0 0 24 24\"\n",
              "     width=\"24px\">\n",
              "    <g>\n",
              "        <path d=\"M19 3H5c-1.1 0-2 .9-2 2v14c0 1.1.9 2 2 2h14c1.1 0 2-.9 2-2V5c0-1.1-.9-2-2-2zM9 17H7v-7h2v7zm4 0h-2V7h2v10zm4 0h-2v-4h2v4z\"/>\n",
              "    </g>\n",
              "</svg>\n",
              "  </button>\n",
              "\n",
              "<style>\n",
              "  .colab-df-quickchart {\n",
              "      --bg-color: #E8F0FE;\n",
              "      --fill-color: #1967D2;\n",
              "      --hover-bg-color: #E2EBFA;\n",
              "      --hover-fill-color: #174EA6;\n",
              "      --disabled-fill-color: #AAA;\n",
              "      --disabled-bg-color: #DDD;\n",
              "  }\n",
              "\n",
              "  [theme=dark] .colab-df-quickchart {\n",
              "      --bg-color: #3B4455;\n",
              "      --fill-color: #D2E3FC;\n",
              "      --hover-bg-color: #434B5C;\n",
              "      --hover-fill-color: #FFFFFF;\n",
              "      --disabled-bg-color: #3B4455;\n",
              "      --disabled-fill-color: #666;\n",
              "  }\n",
              "\n",
              "  .colab-df-quickchart {\n",
              "    background-color: var(--bg-color);\n",
              "    border: none;\n",
              "    border-radius: 50%;\n",
              "    cursor: pointer;\n",
              "    display: none;\n",
              "    fill: var(--fill-color);\n",
              "    height: 32px;\n",
              "    padding: 0;\n",
              "    width: 32px;\n",
              "  }\n",
              "\n",
              "  .colab-df-quickchart:hover {\n",
              "    background-color: var(--hover-bg-color);\n",
              "    box-shadow: 0 1px 2px rgba(60, 64, 67, 0.3), 0 1px 3px 1px rgba(60, 64, 67, 0.15);\n",
              "    fill: var(--button-hover-fill-color);\n",
              "  }\n",
              "\n",
              "  .colab-df-quickchart-complete:disabled,\n",
              "  .colab-df-quickchart-complete:disabled:hover {\n",
              "    background-color: var(--disabled-bg-color);\n",
              "    fill: var(--disabled-fill-color);\n",
              "    box-shadow: none;\n",
              "  }\n",
              "\n",
              "  .colab-df-spinner {\n",
              "    border: 2px solid var(--fill-color);\n",
              "    border-color: transparent;\n",
              "    border-bottom-color: var(--fill-color);\n",
              "    animation:\n",
              "      spin 1s steps(1) infinite;\n",
              "  }\n",
              "\n",
              "  @keyframes spin {\n",
              "    0% {\n",
              "      border-color: transparent;\n",
              "      border-bottom-color: var(--fill-color);\n",
              "      border-left-color: var(--fill-color);\n",
              "    }\n",
              "    20% {\n",
              "      border-color: transparent;\n",
              "      border-left-color: var(--fill-color);\n",
              "      border-top-color: var(--fill-color);\n",
              "    }\n",
              "    30% {\n",
              "      border-color: transparent;\n",
              "      border-left-color: var(--fill-color);\n",
              "      border-top-color: var(--fill-color);\n",
              "      border-right-color: var(--fill-color);\n",
              "    }\n",
              "    40% {\n",
              "      border-color: transparent;\n",
              "      border-right-color: var(--fill-color);\n",
              "      border-top-color: var(--fill-color);\n",
              "    }\n",
              "    60% {\n",
              "      border-color: transparent;\n",
              "      border-right-color: var(--fill-color);\n",
              "    }\n",
              "    80% {\n",
              "      border-color: transparent;\n",
              "      border-right-color: var(--fill-color);\n",
              "      border-bottom-color: var(--fill-color);\n",
              "    }\n",
              "    90% {\n",
              "      border-color: transparent;\n",
              "      border-bottom-color: var(--fill-color);\n",
              "    }\n",
              "  }\n",
              "</style>\n",
              "\n",
              "  <script>\n",
              "    async function quickchart(key) {\n",
              "      const quickchartButtonEl =\n",
              "        document.querySelector('#' + key + ' button');\n",
              "      quickchartButtonEl.disabled = true;  // To prevent multiple clicks.\n",
              "      quickchartButtonEl.classList.add('colab-df-spinner');\n",
              "      try {\n",
              "        const charts = await google.colab.kernel.invokeFunction(\n",
              "            'suggestCharts', [key], {});\n",
              "      } catch (error) {\n",
              "        console.error('Error during call to suggestCharts:', error);\n",
              "      }\n",
              "      quickchartButtonEl.classList.remove('colab-df-spinner');\n",
              "      quickchartButtonEl.classList.add('colab-df-quickchart-complete');\n",
              "    }\n",
              "    (() => {\n",
              "      let quickchartButtonEl =\n",
              "        document.querySelector('#df-7ffaa047-c2e9-4656-a5de-da9460b55356 button');\n",
              "      quickchartButtonEl.style.display =\n",
              "        google.colab.kernel.accessAllowed ? 'block' : 'none';\n",
              "    })();\n",
              "  </script>\n",
              "</div>\n",
              "\n",
              "    </div>\n",
              "  </div>\n"
            ],
            "application/vnd.google.colaboratory.intrinsic+json": {
              "type": "dataframe",
              "summary": "{\n  \"name\": \"dataset\",\n  \"rows\": 2,\n  \"fields\": [\n    {\n      \"column\": \"ID\",\n      \"properties\": {\n        \"dtype\": \"number\",\n        \"std\": 4567,\n        \"min\": 15628,\n        \"max\": 22088,\n        \"num_unique_values\": 2,\n        \"samples\": [\n          15628,\n          22088\n        ],\n        \"semantic_type\": \"\",\n        \"description\": \"\"\n      }\n    },\n    {\n      \"column\": \"Marital Status\",\n      \"properties\": {\n        \"dtype\": \"string\",\n        \"num_unique_values\": 1,\n        \"samples\": [\n          \"Married\"\n        ],\n        \"semantic_type\": \"\",\n        \"description\": \"\"\n      }\n    },\n    {\n      \"column\": \"Gender\",\n      \"properties\": {\n        \"dtype\": \"string\",\n        \"num_unique_values\": 1,\n        \"samples\": [\n          \"Female\"\n        ],\n        \"semantic_type\": \"\",\n        \"description\": \"\"\n      }\n    },\n    {\n      \"column\": \"Income\",\n      \"properties\": {\n        \"dtype\": \"number\",\n        \"std\": 63639.61030678928,\n        \"min\": 40000.0,\n        \"max\": 130000.0,\n        \"num_unique_values\": 2,\n        \"samples\": [\n          40000.0\n        ],\n        \"semantic_type\": \"\",\n        \"description\": \"\"\n      }\n    },\n    {\n      \"column\": \"Children\",\n      \"properties\": {\n        \"dtype\": \"number\",\n        \"std\": 0.0,\n        \"min\": 1.0,\n        \"max\": 1.0,\n        \"num_unique_values\": 1,\n        \"samples\": [\n          1.0\n        ],\n        \"semantic_type\": \"\",\n        \"description\": \"\"\n      }\n    },\n    {\n      \"column\": \"Education\",\n      \"properties\": {\n        \"dtype\": \"string\",\n        \"num_unique_values\": 1,\n        \"samples\": [\n          \"Bachelors\"\n        ],\n        \"semantic_type\": \"\",\n        \"description\": \"\"\n      }\n    },\n    {\n      \"column\": \"Occupation\",\n      \"properties\": {\n        \"dtype\": \"string\",\n        \"num_unique_values\": 2,\n        \"samples\": [\n          \"Skilled Manual\"\n        ],\n        \"semantic_type\": \"\",\n        \"description\": \"\"\n      }\n    },\n    {\n      \"column\": \"Home Owner\",\n      \"properties\": {\n        \"dtype\": \"string\",\n        \"num_unique_values\": 1,\n        \"samples\": [\n          \"Yes\"\n        ],\n        \"semantic_type\": \"\",\n        \"description\": \"\"\n      }\n    },\n    {\n      \"column\": \"Cars\",\n      \"properties\": {\n        \"dtype\": \"number\",\n        \"std\": 0.7071067811865476,\n        \"min\": 1.0,\n        \"max\": 2.0,\n        \"num_unique_values\": 2,\n        \"samples\": [\n          1.0\n        ],\n        \"semantic_type\": \"\",\n        \"description\": \"\"\n      }\n    },\n    {\n      \"column\": \"Commute Distance\",\n      \"properties\": {\n        \"dtype\": \"string\",\n        \"num_unique_values\": 1,\n        \"samples\": [\n          \"0-1 Miles\"\n        ],\n        \"semantic_type\": \"\",\n        \"description\": \"\"\n      }\n    },\n    {\n      \"column\": \"Region\",\n      \"properties\": {\n        \"dtype\": \"string\",\n        \"num_unique_values\": 2,\n        \"samples\": [\n          \"Europe\"\n        ],\n        \"semantic_type\": \"\",\n        \"description\": \"\"\n      }\n    },\n    {\n      \"column\": \"Age\",\n      \"properties\": {\n        \"dtype\": \"number\",\n        \"std\": 31.11269837220809,\n        \"min\": 45.0,\n        \"max\": 89.0,\n        \"num_unique_values\": 2,\n        \"samples\": [\n          89.0\n        ],\n        \"semantic_type\": \"\",\n        \"description\": \"\"\n      }\n    },\n    {\n      \"column\": \"Purchased Bike\",\n      \"properties\": {\n        \"dtype\": \"string\",\n        \"num_unique_values\": 2,\n        \"samples\": [\n          \"No\"\n        ],\n        \"semantic_type\": \"\",\n        \"description\": \"\"\n      }\n    }\n  ]\n}"
            }
          },
          "metadata": {},
          "execution_count": 45
        }
      ]
    },
    {
      "cell_type": "code",
      "source": [
        "# Display the Shape of the Dataset\n",
        "print(f\"Here is the Shape of the Dataset : {dataset.shape}\")"
      ],
      "metadata": {
        "colab": {
          "base_uri": "https://localhost:8080/"
        },
        "id": "nwR7kjy8A9eN",
        "outputId": "b333979b-305e-4304-a986-6e0f6f847a2a"
      },
      "execution_count": 46,
      "outputs": [
        {
          "output_type": "stream",
          "name": "stdout",
          "text": [
            "Here is the Shape of the Dataset : (1000, 13)\n"
          ]
        }
      ]
    },
    {
      "cell_type": "code",
      "source": [
        "# Display the All Column Names of the Dataset\n",
        "columns = dataset.columns\n",
        "print(f\"Here is the All Column Names of the Dataset :\\n{columns}\")"
      ],
      "metadata": {
        "colab": {
          "base_uri": "https://localhost:8080/"
        },
        "id": "wl1oXbpLBLBj",
        "outputId": "4ba77274-c76f-4000-d3ed-fecca407b415"
      },
      "execution_count": 69,
      "outputs": [
        {
          "output_type": "stream",
          "name": "stdout",
          "text": [
            "Here is the All Column Names of the Dataset :\n",
            "Index(['ID', 'Marital Status', 'Gender', 'Income', 'Children', 'Education',\n",
            "       'Occupation', 'Home Owner', 'Cars', 'Commute Distance', 'Region', 'Age',\n",
            "       'Purchased Bike'],\n",
            "      dtype='object')\n"
          ]
        }
      ]
    },
    {
      "cell_type": "code",
      "source": [
        "# Display the Uniques Values of Education Colm\n",
        "educationUniques = dataset[\"Education\"].unique()\n",
        "print(f\"Here is the Uniques Values of Education Colm : {educationUniques}\")"
      ],
      "metadata": {
        "colab": {
          "base_uri": "https://localhost:8080/"
        },
        "id": "J8JZA1SuC1WQ",
        "outputId": "ee4815ad-c6fc-4456-eb8b-16b91bac27ca"
      },
      "execution_count": 48,
      "outputs": [
        {
          "output_type": "stream",
          "name": "stdout",
          "text": [
            "Here is the Uniques Values of Education Colm : ['Bachelors' 'Partial College' 'High School' 'Partial High School'\n",
            " 'Graduate Degree']\n"
          ]
        }
      ]
    },
    {
      "cell_type": "code",
      "source": [
        "# Display the Uniques Values of Children Colm\n",
        "childrenUniques = dataset[\"Children\"].unique()\n",
        "print(f\"Here is the Uniques Values of Children Colm : {childrenUniques}\")"
      ],
      "metadata": {
        "colab": {
          "base_uri": "https://localhost:8080/"
        },
        "id": "iAzaYgFJDKOA",
        "outputId": "1dfa6970-41e4-48c6-a154-b87d71aafd38"
      },
      "execution_count": 49,
      "outputs": [
        {
          "output_type": "stream",
          "name": "stdout",
          "text": [
            "Here is the Uniques Values of Children Colm : [ 1.  3.  5.  0.  2.  4. nan]\n"
          ]
        }
      ]
    },
    {
      "cell_type": "code",
      "source": [
        "# Display the Uniques Values of the Home Owner Colm\n",
        "homeOwnerUniques = dataset[\"Home Owner\"].unique()\n",
        "print(f\"Here is the Uniques Values of the Home Owner Colm : {homeOwnerUniques}\")"
      ],
      "metadata": {
        "colab": {
          "base_uri": "https://localhost:8080/"
        },
        "id": "JDxyJYIsDY_v",
        "outputId": "a12f7cd5-c3e9-4e5d-b9c1-c6634e74125a"
      },
      "execution_count": 50,
      "outputs": [
        {
          "output_type": "stream",
          "name": "stdout",
          "text": [
            "Here is the Uniques Values of the Home Owner Colm : ['Yes' 'No' nan]\n"
          ]
        }
      ]
    },
    {
      "cell_type": "code",
      "source": [
        "# Display the Total Count of the Uniques Values of the Education Colm\n",
        "educationUnqCount = dataset[\"Education\"].value_counts()\n",
        "print(f\"Here is the Total Count of the Uniques Values of the Education Colm : \\n{educationUnqCount}\")"
      ],
      "metadata": {
        "colab": {
          "base_uri": "https://localhost:8080/"
        },
        "id": "Q_w_Bnf1Dtpv",
        "outputId": "e3f4d22b-423b-43be-a273-8ab95990cf33"
      },
      "execution_count": 51,
      "outputs": [
        {
          "output_type": "stream",
          "name": "stdout",
          "text": [
            "Here is the Total Count of the Uniques Values of the Education Colm : \n",
            "Education\n",
            "Bachelors              306\n",
            "Partial College        265\n",
            "High School            179\n",
            "Graduate Degree        174\n",
            "Partial High School     76\n",
            "Name: count, dtype: int64\n"
          ]
        }
      ]
    },
    {
      "cell_type": "code",
      "source": [
        "# Check the Duplicated Data in the Dataset\n",
        "countDuplicates = dataset.duplicated().sum()\n",
        "print(f\"Here is the Count of Duplicates Data in the Dataset : {countDuplicates}\")"
      ],
      "metadata": {
        "colab": {
          "base_uri": "https://localhost:8080/"
        },
        "id": "fcoWNl83BikZ",
        "outputId": "6bbf1a2e-1f2e-436d-92e0-9bdff0c54873"
      },
      "execution_count": 52,
      "outputs": [
        {
          "output_type": "stream",
          "name": "stdout",
          "text": [
            "Here is the Count of Duplicates Data in the Dataset : 0\n"
          ]
        }
      ]
    },
    {
      "cell_type": "code",
      "source": [
        "# Check the Missing Values in the Dataset\n",
        "missingValues = dataset.isnull().sum()\n",
        "print(f\"Here is the Count of Missing Values in the Dataset :\\n{missingValues}\")"
      ],
      "metadata": {
        "colab": {
          "base_uri": "https://localhost:8080/"
        },
        "id": "hiaaycG2B9Zl",
        "outputId": "2debd94b-0239-4851-b4a3-9d804d0dbc61"
      },
      "execution_count": 53,
      "outputs": [
        {
          "output_type": "stream",
          "name": "stdout",
          "text": [
            "Here is the Count of Missing Values in the Dataset :\n",
            "ID                   0\n",
            "Marital Status       7\n",
            "Gender              11\n",
            "Income               6\n",
            "Children             8\n",
            "Education            0\n",
            "Occupation           0\n",
            "Home Owner           4\n",
            "Cars                 9\n",
            "Commute Distance     0\n",
            "Region               0\n",
            "Age                  8\n",
            "Purchased Bike       0\n",
            "dtype: int64\n"
          ]
        }
      ]
    },
    {
      "cell_type": "code",
      "source": [
        "# Check the Dataset is Balanced or Imbalanced\n",
        "classLabel = dataset[\"Purchased Bike\"].value_counts()\n",
        "\n",
        "# Display the Count of the Each Class Label\n",
        "print(f\"Here is the Count of the Each Class Label :\\n{classLabel}\")"
      ],
      "metadata": {
        "colab": {
          "base_uri": "https://localhost:8080/"
        },
        "id": "JGnoQ7IXCJax",
        "outputId": "82d54a9d-d79e-4720-811c-6bdb8cca449b"
      },
      "execution_count": 54,
      "outputs": [
        {
          "output_type": "stream",
          "name": "stdout",
          "text": [
            "Here is the Count of the Each Class Label :\n",
            "Purchased Bike\n",
            "No     519\n",
            "Yes    481\n",
            "Name: count, dtype: int64\n"
          ]
        }
      ]
    },
    {
      "cell_type": "code",
      "source": [
        "# Display the All inforamtion about the Dataset\n",
        "dataset.info()"
      ],
      "metadata": {
        "colab": {
          "base_uri": "https://localhost:8080/"
        },
        "id": "AyEgxelsE0iK",
        "outputId": "b47379dd-eba1-4b80-fbd8-a047a5d2277a"
      },
      "execution_count": 55,
      "outputs": [
        {
          "output_type": "stream",
          "name": "stdout",
          "text": [
            "<class 'pandas.core.frame.DataFrame'>\n",
            "RangeIndex: 1000 entries, 0 to 999\n",
            "Data columns (total 13 columns):\n",
            " #   Column            Non-Null Count  Dtype  \n",
            "---  ------            --------------  -----  \n",
            " 0   ID                1000 non-null   int64  \n",
            " 1   Marital Status    993 non-null    object \n",
            " 2   Gender            989 non-null    object \n",
            " 3   Income            994 non-null    float64\n",
            " 4   Children          992 non-null    float64\n",
            " 5   Education         1000 non-null   object \n",
            " 6   Occupation        1000 non-null   object \n",
            " 7   Home Owner        996 non-null    object \n",
            " 8   Cars              991 non-null    float64\n",
            " 9   Commute Distance  1000 non-null   object \n",
            " 10  Region            1000 non-null   object \n",
            " 11  Age               992 non-null    float64\n",
            " 12  Purchased Bike    1000 non-null   object \n",
            "dtypes: float64(4), int64(1), object(8)\n",
            "memory usage: 101.7+ KB\n"
          ]
        }
      ]
    },
    {
      "cell_type": "code",
      "source": [
        "# Display the Statistical Information about the Numerical Data\n",
        "dataset.describe()"
      ],
      "metadata": {
        "colab": {
          "base_uri": "https://localhost:8080/",
          "height": 300
        },
        "id": "AyEah-SFFAEN",
        "outputId": "679576b7-3a03-4c27-d2be-24891c5dadce"
      },
      "execution_count": 56,
      "outputs": [
        {
          "output_type": "execute_result",
          "data": {
            "text/plain": [
              "                 ID         Income    Children        Cars         Age\n",
              "count   1000.000000     994.000000  992.000000  991.000000  992.000000\n",
              "mean   19965.992000   56267.605634    1.910282    1.455096   44.181452\n",
              "std     5347.333948   31067.817462    1.626910    1.121755   11.362007\n",
              "min    11000.000000   10000.000000    0.000000    0.000000   25.000000\n",
              "25%    15290.750000   30000.000000    0.000000    1.000000   35.000000\n",
              "50%    19744.000000   60000.000000    2.000000    1.000000   43.000000\n",
              "75%    24470.750000   70000.000000    3.000000    2.000000   52.000000\n",
              "max    29447.000000  170000.000000    5.000000    4.000000   89.000000"
            ],
            "text/html": [
              "\n",
              "  <div id=\"df-915fbc06-a62c-487e-9543-98a98e50e2dd\" class=\"colab-df-container\">\n",
              "    <div>\n",
              "<style scoped>\n",
              "    .dataframe tbody tr th:only-of-type {\n",
              "        vertical-align: middle;\n",
              "    }\n",
              "\n",
              "    .dataframe tbody tr th {\n",
              "        vertical-align: top;\n",
              "    }\n",
              "\n",
              "    .dataframe thead th {\n",
              "        text-align: right;\n",
              "    }\n",
              "</style>\n",
              "<table border=\"1\" class=\"dataframe\">\n",
              "  <thead>\n",
              "    <tr style=\"text-align: right;\">\n",
              "      <th></th>\n",
              "      <th>ID</th>\n",
              "      <th>Income</th>\n",
              "      <th>Children</th>\n",
              "      <th>Cars</th>\n",
              "      <th>Age</th>\n",
              "    </tr>\n",
              "  </thead>\n",
              "  <tbody>\n",
              "    <tr>\n",
              "      <th>count</th>\n",
              "      <td>1000.000000</td>\n",
              "      <td>994.000000</td>\n",
              "      <td>992.000000</td>\n",
              "      <td>991.000000</td>\n",
              "      <td>992.000000</td>\n",
              "    </tr>\n",
              "    <tr>\n",
              "      <th>mean</th>\n",
              "      <td>19965.992000</td>\n",
              "      <td>56267.605634</td>\n",
              "      <td>1.910282</td>\n",
              "      <td>1.455096</td>\n",
              "      <td>44.181452</td>\n",
              "    </tr>\n",
              "    <tr>\n",
              "      <th>std</th>\n",
              "      <td>5347.333948</td>\n",
              "      <td>31067.817462</td>\n",
              "      <td>1.626910</td>\n",
              "      <td>1.121755</td>\n",
              "      <td>11.362007</td>\n",
              "    </tr>\n",
              "    <tr>\n",
              "      <th>min</th>\n",
              "      <td>11000.000000</td>\n",
              "      <td>10000.000000</td>\n",
              "      <td>0.000000</td>\n",
              "      <td>0.000000</td>\n",
              "      <td>25.000000</td>\n",
              "    </tr>\n",
              "    <tr>\n",
              "      <th>25%</th>\n",
              "      <td>15290.750000</td>\n",
              "      <td>30000.000000</td>\n",
              "      <td>0.000000</td>\n",
              "      <td>1.000000</td>\n",
              "      <td>35.000000</td>\n",
              "    </tr>\n",
              "    <tr>\n",
              "      <th>50%</th>\n",
              "      <td>19744.000000</td>\n",
              "      <td>60000.000000</td>\n",
              "      <td>2.000000</td>\n",
              "      <td>1.000000</td>\n",
              "      <td>43.000000</td>\n",
              "    </tr>\n",
              "    <tr>\n",
              "      <th>75%</th>\n",
              "      <td>24470.750000</td>\n",
              "      <td>70000.000000</td>\n",
              "      <td>3.000000</td>\n",
              "      <td>2.000000</td>\n",
              "      <td>52.000000</td>\n",
              "    </tr>\n",
              "    <tr>\n",
              "      <th>max</th>\n",
              "      <td>29447.000000</td>\n",
              "      <td>170000.000000</td>\n",
              "      <td>5.000000</td>\n",
              "      <td>4.000000</td>\n",
              "      <td>89.000000</td>\n",
              "    </tr>\n",
              "  </tbody>\n",
              "</table>\n",
              "</div>\n",
              "    <div class=\"colab-df-buttons\">\n",
              "\n",
              "  <div class=\"colab-df-container\">\n",
              "    <button class=\"colab-df-convert\" onclick=\"convertToInteractive('df-915fbc06-a62c-487e-9543-98a98e50e2dd')\"\n",
              "            title=\"Convert this dataframe to an interactive table.\"\n",
              "            style=\"display:none;\">\n",
              "\n",
              "  <svg xmlns=\"http://www.w3.org/2000/svg\" height=\"24px\" viewBox=\"0 -960 960 960\">\n",
              "    <path d=\"M120-120v-720h720v720H120Zm60-500h600v-160H180v160Zm220 220h160v-160H400v160Zm0 220h160v-160H400v160ZM180-400h160v-160H180v160Zm440 0h160v-160H620v160ZM180-180h160v-160H180v160Zm440 0h160v-160H620v160Z\"/>\n",
              "  </svg>\n",
              "    </button>\n",
              "\n",
              "  <style>\n",
              "    .colab-df-container {\n",
              "      display:flex;\n",
              "      gap: 12px;\n",
              "    }\n",
              "\n",
              "    .colab-df-convert {\n",
              "      background-color: #E8F0FE;\n",
              "      border: none;\n",
              "      border-radius: 50%;\n",
              "      cursor: pointer;\n",
              "      display: none;\n",
              "      fill: #1967D2;\n",
              "      height: 32px;\n",
              "      padding: 0 0 0 0;\n",
              "      width: 32px;\n",
              "    }\n",
              "\n",
              "    .colab-df-convert:hover {\n",
              "      background-color: #E2EBFA;\n",
              "      box-shadow: 0px 1px 2px rgba(60, 64, 67, 0.3), 0px 1px 3px 1px rgba(60, 64, 67, 0.15);\n",
              "      fill: #174EA6;\n",
              "    }\n",
              "\n",
              "    .colab-df-buttons div {\n",
              "      margin-bottom: 4px;\n",
              "    }\n",
              "\n",
              "    [theme=dark] .colab-df-convert {\n",
              "      background-color: #3B4455;\n",
              "      fill: #D2E3FC;\n",
              "    }\n",
              "\n",
              "    [theme=dark] .colab-df-convert:hover {\n",
              "      background-color: #434B5C;\n",
              "      box-shadow: 0px 1px 3px 1px rgba(0, 0, 0, 0.15);\n",
              "      filter: drop-shadow(0px 1px 2px rgba(0, 0, 0, 0.3));\n",
              "      fill: #FFFFFF;\n",
              "    }\n",
              "  </style>\n",
              "\n",
              "    <script>\n",
              "      const buttonEl =\n",
              "        document.querySelector('#df-915fbc06-a62c-487e-9543-98a98e50e2dd button.colab-df-convert');\n",
              "      buttonEl.style.display =\n",
              "        google.colab.kernel.accessAllowed ? 'block' : 'none';\n",
              "\n",
              "      async function convertToInteractive(key) {\n",
              "        const element = document.querySelector('#df-915fbc06-a62c-487e-9543-98a98e50e2dd');\n",
              "        const dataTable =\n",
              "          await google.colab.kernel.invokeFunction('convertToInteractive',\n",
              "                                                    [key], {});\n",
              "        if (!dataTable) return;\n",
              "\n",
              "        const docLinkHtml = 'Like what you see? Visit the ' +\n",
              "          '<a target=\"_blank\" href=https://colab.research.google.com/notebooks/data_table.ipynb>data table notebook</a>'\n",
              "          + ' to learn more about interactive tables.';\n",
              "        element.innerHTML = '';\n",
              "        dataTable['output_type'] = 'display_data';\n",
              "        await google.colab.output.renderOutput(dataTable, element);\n",
              "        const docLink = document.createElement('div');\n",
              "        docLink.innerHTML = docLinkHtml;\n",
              "        element.appendChild(docLink);\n",
              "      }\n",
              "    </script>\n",
              "  </div>\n",
              "\n",
              "\n",
              "<div id=\"df-b381272d-2749-47e2-9e00-69edff98d129\">\n",
              "  <button class=\"colab-df-quickchart\" onclick=\"quickchart('df-b381272d-2749-47e2-9e00-69edff98d129')\"\n",
              "            title=\"Suggest charts\"\n",
              "            style=\"display:none;\">\n",
              "\n",
              "<svg xmlns=\"http://www.w3.org/2000/svg\" height=\"24px\"viewBox=\"0 0 24 24\"\n",
              "     width=\"24px\">\n",
              "    <g>\n",
              "        <path d=\"M19 3H5c-1.1 0-2 .9-2 2v14c0 1.1.9 2 2 2h14c1.1 0 2-.9 2-2V5c0-1.1-.9-2-2-2zM9 17H7v-7h2v7zm4 0h-2V7h2v10zm4 0h-2v-4h2v4z\"/>\n",
              "    </g>\n",
              "</svg>\n",
              "  </button>\n",
              "\n",
              "<style>\n",
              "  .colab-df-quickchart {\n",
              "      --bg-color: #E8F0FE;\n",
              "      --fill-color: #1967D2;\n",
              "      --hover-bg-color: #E2EBFA;\n",
              "      --hover-fill-color: #174EA6;\n",
              "      --disabled-fill-color: #AAA;\n",
              "      --disabled-bg-color: #DDD;\n",
              "  }\n",
              "\n",
              "  [theme=dark] .colab-df-quickchart {\n",
              "      --bg-color: #3B4455;\n",
              "      --fill-color: #D2E3FC;\n",
              "      --hover-bg-color: #434B5C;\n",
              "      --hover-fill-color: #FFFFFF;\n",
              "      --disabled-bg-color: #3B4455;\n",
              "      --disabled-fill-color: #666;\n",
              "  }\n",
              "\n",
              "  .colab-df-quickchart {\n",
              "    background-color: var(--bg-color);\n",
              "    border: none;\n",
              "    border-radius: 50%;\n",
              "    cursor: pointer;\n",
              "    display: none;\n",
              "    fill: var(--fill-color);\n",
              "    height: 32px;\n",
              "    padding: 0;\n",
              "    width: 32px;\n",
              "  }\n",
              "\n",
              "  .colab-df-quickchart:hover {\n",
              "    background-color: var(--hover-bg-color);\n",
              "    box-shadow: 0 1px 2px rgba(60, 64, 67, 0.3), 0 1px 3px 1px rgba(60, 64, 67, 0.15);\n",
              "    fill: var(--button-hover-fill-color);\n",
              "  }\n",
              "\n",
              "  .colab-df-quickchart-complete:disabled,\n",
              "  .colab-df-quickchart-complete:disabled:hover {\n",
              "    background-color: var(--disabled-bg-color);\n",
              "    fill: var(--disabled-fill-color);\n",
              "    box-shadow: none;\n",
              "  }\n",
              "\n",
              "  .colab-df-spinner {\n",
              "    border: 2px solid var(--fill-color);\n",
              "    border-color: transparent;\n",
              "    border-bottom-color: var(--fill-color);\n",
              "    animation:\n",
              "      spin 1s steps(1) infinite;\n",
              "  }\n",
              "\n",
              "  @keyframes spin {\n",
              "    0% {\n",
              "      border-color: transparent;\n",
              "      border-bottom-color: var(--fill-color);\n",
              "      border-left-color: var(--fill-color);\n",
              "    }\n",
              "    20% {\n",
              "      border-color: transparent;\n",
              "      border-left-color: var(--fill-color);\n",
              "      border-top-color: var(--fill-color);\n",
              "    }\n",
              "    30% {\n",
              "      border-color: transparent;\n",
              "      border-left-color: var(--fill-color);\n",
              "      border-top-color: var(--fill-color);\n",
              "      border-right-color: var(--fill-color);\n",
              "    }\n",
              "    40% {\n",
              "      border-color: transparent;\n",
              "      border-right-color: var(--fill-color);\n",
              "      border-top-color: var(--fill-color);\n",
              "    }\n",
              "    60% {\n",
              "      border-color: transparent;\n",
              "      border-right-color: var(--fill-color);\n",
              "    }\n",
              "    80% {\n",
              "      border-color: transparent;\n",
              "      border-right-color: var(--fill-color);\n",
              "      border-bottom-color: var(--fill-color);\n",
              "    }\n",
              "    90% {\n",
              "      border-color: transparent;\n",
              "      border-bottom-color: var(--fill-color);\n",
              "    }\n",
              "  }\n",
              "</style>\n",
              "\n",
              "  <script>\n",
              "    async function quickchart(key) {\n",
              "      const quickchartButtonEl =\n",
              "        document.querySelector('#' + key + ' button');\n",
              "      quickchartButtonEl.disabled = true;  // To prevent multiple clicks.\n",
              "      quickchartButtonEl.classList.add('colab-df-spinner');\n",
              "      try {\n",
              "        const charts = await google.colab.kernel.invokeFunction(\n",
              "            'suggestCharts', [key], {});\n",
              "      } catch (error) {\n",
              "        console.error('Error during call to suggestCharts:', error);\n",
              "      }\n",
              "      quickchartButtonEl.classList.remove('colab-df-spinner');\n",
              "      quickchartButtonEl.classList.add('colab-df-quickchart-complete');\n",
              "    }\n",
              "    (() => {\n",
              "      let quickchartButtonEl =\n",
              "        document.querySelector('#df-b381272d-2749-47e2-9e00-69edff98d129 button');\n",
              "      quickchartButtonEl.style.display =\n",
              "        google.colab.kernel.accessAllowed ? 'block' : 'none';\n",
              "    })();\n",
              "  </script>\n",
              "</div>\n",
              "\n",
              "    </div>\n",
              "  </div>\n"
            ],
            "application/vnd.google.colaboratory.intrinsic+json": {
              "type": "dataframe",
              "summary": "{\n  \"name\": \"dataset\",\n  \"rows\": 8,\n  \"fields\": [\n    {\n      \"column\": \"ID\",\n      \"properties\": {\n        \"dtype\": \"number\",\n        \"std\": 9606.013389833963,\n        \"min\": 1000.0,\n        \"max\": 29447.0,\n        \"num_unique_values\": 8,\n        \"samples\": [\n          19965.992,\n          19744.0,\n          1000.0\n        ],\n        \"semantic_type\": \"\",\n        \"description\": \"\"\n      }\n    },\n    {\n      \"column\": \"Income\",\n      \"properties\": {\n        \"dtype\": \"number\",\n        \"std\": 52913.64788218525,\n        \"min\": 994.0,\n        \"max\": 170000.0,\n        \"num_unique_values\": 8,\n        \"samples\": [\n          56267.605633802814,\n          60000.0,\n          994.0\n        ],\n        \"semantic_type\": \"\",\n        \"description\": \"\"\n      }\n    },\n    {\n      \"column\": \"Children\",\n      \"properties\": {\n        \"dtype\": \"number\",\n        \"std\": 350.0449288202338,\n        \"min\": 0.0,\n        \"max\": 992.0,\n        \"num_unique_values\": 7,\n        \"samples\": [\n          992.0,\n          1.9102822580645162,\n          3.0\n        ],\n        \"semantic_type\": \"\",\n        \"description\": \"\"\n      }\n    },\n    {\n      \"column\": \"Cars\",\n      \"properties\": {\n        \"dtype\": \"number\",\n        \"std\": 349.8391164975787,\n        \"min\": 0.0,\n        \"max\": 991.0,\n        \"num_unique_values\": 7,\n        \"samples\": [\n          991.0,\n          1.455095862764884,\n          2.0\n        ],\n        \"semantic_type\": \"\",\n        \"description\": \"\"\n      }\n    },\n    {\n      \"column\": \"Age\",\n      \"properties\": {\n        \"dtype\": \"number\",\n        \"std\": 336.35834054607085,\n        \"min\": 11.36200666558938,\n        \"max\": 992.0,\n        \"num_unique_values\": 8,\n        \"samples\": [\n          44.181451612903224,\n          43.0,\n          992.0\n        ],\n        \"semantic_type\": \"\",\n        \"description\": \"\"\n      }\n    }\n  ]\n}"
            }
          },
          "metadata": {},
          "execution_count": 56
        }
      ]
    },
    {
      "cell_type": "markdown",
      "source": [
        "**Dataset Preprocessing**"
      ],
      "metadata": {
        "id": "5oUBlL5VFPZY"
      }
    },
    {
      "cell_type": "code",
      "source": [
        "# Split the Dataset into Dependent and Independent\n",
        "X = dataset.iloc[:,:-1].values\n",
        "Y = dataset.iloc[:,-1].values\n",
        "\n",
        "# Display the Shape of the X & Y\n",
        "print(f\"Here is the Shape of the X : {X.shape}\")\n",
        "print(f\"Here is the Shape of the Y : {Y.shape}\")"
      ],
      "metadata": {
        "colab": {
          "base_uri": "https://localhost:8080/"
        },
        "id": "HU02V8BnGKpD",
        "outputId": "c74bdf20-6987-455b-ebf8-cc84f7cf0c31"
      },
      "execution_count": 79,
      "outputs": [
        {
          "output_type": "stream",
          "name": "stdout",
          "text": [
            "Here is the Shape of the X : (1000, 12)\n",
            "Here is the Shape of the Y : (1000,)\n"
          ]
        }
      ]
    },
    {
      "cell_type": "code",
      "source": [
        "# Display the First Row Data from X & Y\n",
        "print(X[0] , Y[0])"
      ],
      "metadata": {
        "colab": {
          "base_uri": "https://localhost:8080/"
        },
        "id": "IY9mFcKHFjm8",
        "outputId": "ab026d26-86ae-4657-95f8-b9f98d6aa403"
      },
      "execution_count": 63,
      "outputs": [
        {
          "output_type": "stream",
          "name": "stdout",
          "text": [
            "[12496 'Married' 'Female' 40000.0 1.0 'Bachelors' 'Skilled Manual' 'Yes'\n",
            " 0.0 '0-1 Miles' 'Europe' 42.0] No\n"
          ]
        }
      ]
    },
    {
      "cell_type": "markdown",
      "source": [
        "`Handle Missing Values`"
      ],
      "metadata": {
        "id": "tmp56BEAF6ev"
      }
    },
    {
      "cell_type": "code",
      "source": [
        "# Handle the Numerical Data\n",
        "\n",
        "# Define the Colm Index f(or the Handle of Numerical Type Missing Data)\n",
        "numericalDataColm = [3 , 4 , 8 , 11]\n",
        "\n",
        "# Create the Object of SimpleImputer\n",
        "imputer = SimpleImputer(missing_values = np.nan , strategy = \"mean\")\n",
        "X[:,numericalDataColm] = imputer.fit_transform(X[: , numericalDataColm])"
      ],
      "metadata": {
        "id": "jqnHE-4rFs-b"
      },
      "execution_count": 80,
      "outputs": []
    },
    {
      "cell_type": "code",
      "source": [
        "# Handle the Categorical Data\n",
        "\n",
        "# Define the Colm Index f(or the Handle of Categorical Type Missing Data)\n",
        "categoricalDataColm = [1 , 2 , 7]\n",
        "\n",
        "# Create the Object of SimpleImputer\n",
        "imputer = SimpleImputer(missing_values = np.nan , strategy = \"most_frequent\")\n",
        "X[: , categoricalDataColm] = imputer.fit_transform(X[: , categoricalDataColm])"
      ],
      "metadata": {
        "id": "Ki_W2b0JGOzR"
      },
      "execution_count": 81,
      "outputs": []
    },
    {
      "cell_type": "code",
      "source": [
        "# Check the Missing Values after handled\n",
        "dataframe1     = pd.DataFrame(X , columns = [name for name in columns[:-1]])\n",
        "handledMissing = dataframe1.isnull().sum()\n",
        "print(f\"Here is the Count of Missing Values in the Dataset :\\n{handledMissing}\")"
      ],
      "metadata": {
        "colab": {
          "base_uri": "https://localhost:8080/"
        },
        "collapsed": true,
        "id": "bqrQtCo6J4OQ",
        "outputId": "8f7e2d89-8522-4caa-9e6e-158fb36745e6"
      },
      "execution_count": 82,
      "outputs": [
        {
          "output_type": "stream",
          "name": "stdout",
          "text": [
            "Here is the Count of Missing Values in the Dataset :\n",
            "ID                  0\n",
            "Marital Status      0\n",
            "Gender              0\n",
            "Income              0\n",
            "Children            0\n",
            "Education           0\n",
            "Occupation          0\n",
            "Home Owner          0\n",
            "Cars                0\n",
            "Commute Distance    0\n",
            "Region              0\n",
            "Age                 0\n",
            "dtype: int64\n"
          ]
        }
      ]
    },
    {
      "cell_type": "markdown",
      "source": [
        "`Handle Categorical Data`"
      ],
      "metadata": {
        "id": "6v1ZKJUGLDz7"
      }
    },
    {
      "cell_type": "code",
      "source": [
        "# Handle the Categorical Data -> MEAN (Convert the Categorical Data into Numerical Data)\n",
        "\n",
        "# Define the All Categorcial Data index\n",
        "categoricalDataIndex = [1 , 2 , 5 , 6 , 7 , 9 , 10]\n",
        "\n",
        "# Create the Object of LabelEncoder\n",
        "labelEncoder = LabelEncoder()\n",
        "for index in categoricalDataIndex:\n",
        "  X[: , index] = labelEncoder.fit_transform(X[: , index])\n",
        "\n",
        "Y = labelEncoder.fit_transform(Y)\n",
        "\n",
        "# Display the First Data\n",
        "print(X[0] , Y[0])"
      ],
      "metadata": {
        "colab": {
          "base_uri": "https://localhost:8080/"
        },
        "id": "NI7BIepSGPGR",
        "outputId": "6a7d1407-d5e1-4885-afa0-387c8572751b"
      },
      "execution_count": 83,
      "outputs": [
        {
          "output_type": "stream",
          "name": "stdout",
          "text": [
            "[12496 0 0 40000.0 1.0 0 4 1 0.0 0 0 42.0] 0\n"
          ]
        }
      ]
    },
    {
      "cell_type": "markdown",
      "source": [
        "`Normalize the Data`"
      ],
      "metadata": {
        "id": "qrBByo9qOFP8"
      }
    },
    {
      "cell_type": "code",
      "source": [
        "# Handle the Data Range\n",
        "\n",
        "# Create the Object for MinMaxScaler [0,1]\n",
        "scaler = MinMaxScaler()\n",
        "X = scaler.fit_transform(X)\n",
        "\n",
        "# Display the First Data\n",
        "print(X[0])"
      ],
      "metadata": {
        "id": "ax1VRXJ_GULd",
        "colab": {
          "base_uri": "https://localhost:8080/"
        },
        "outputId": "aeb9aa0f-2d1c-4343-d22e-a7399286b07c"
      },
      "execution_count": 88,
      "outputs": [
        {
          "output_type": "stream",
          "name": "stdout",
          "text": [
            "[0.0810972 0.        0.        0.1875    0.2       0.        1.\n",
            " 1.        0.        0.        0.        0.265625 ]\n"
          ]
        }
      ]
    },
    {
      "cell_type": "code",
      "source": [],
      "metadata": {
        "id": "V8ye9KRVLeKy"
      },
      "execution_count": null,
      "outputs": []
    }
  ]
}